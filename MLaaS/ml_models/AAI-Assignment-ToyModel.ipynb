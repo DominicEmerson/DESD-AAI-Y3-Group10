{
 "cells": [
  {
   "cell_type": "code",
   "execution_count": 1,
   "metadata": {},
   "outputs": [],
   "source": [
    "import pandas as pd\n",
    "from sklearn.model_selection import train_test_split\n",
    "from sklearn.linear_model import LinearRegression\n",
    "import pickle\n",
    "\n",
    "# Load sample data (replace with your own data)\n",
    "data = pd.read_csv(\"claims_reduced.csv\")\n",
    "X = data[[\"GeneralRest\", \"GeneralFixed\", \"SpecialTherapy\"]]  # Features\n",
    "y = data[\"SettlementValue\"]  # Target variable\n",
    "\n",
    "# Split data into training and testing sets\n",
    "X_train, X_test, y_train, y_test = train_test_split(X, y, test_size=0.2, random_state=42)\n",
    "\n",
    "# Create and train the linear regression model\n",
    "model = LinearRegression()\n",
    "model.fit(X_train, y_train) \n",
    "\n",
    "# Save the trained model using pickle\n",
    "with open(\"3feature_regression_model.pkl\", \"wb\") as file:\n",
    "    pickle.dump(model, file) \n"
   ]
  },
  {
   "cell_type": "code",
   "execution_count": 6,
   "metadata": {},
   "outputs": [
    {
     "name": "stdout",
     "output_type": "stream",
     "text": [
      "Predicted value: [396.56497763]\n"
     ]
    },
    {
     "name": "stderr",
     "output_type": "stream",
     "text": [
      "C:\\Users\\BB\\.venv\\AAI\\.venv\\Lib\\site-packages\\sklearn\\utils\\validation.py:2739: UserWarning: X does not have valid feature names, but LinearRegression was fitted with feature names\n",
      "  warnings.warn(\n"
     ]
    }
   ],
   "source": [
    "# Load the saved model for inference\n",
    "with open(\"3feature_regression_model.pkl\", \"rb\") as file:\n",
    "    loaded_model = pickle.load(file) \n",
    "\n",
    "# Make predictions on new data\n",
    "new_data = [[0, 260, 0]]\n",
    "predictions = loaded_model.predict(new_data) \n",
    "\n",
    "print(\"Predicted value:\", predictions)"
   ]
  }
 ],
 "metadata": {
  "kernelspec": {
   "display_name": "Python 3 (ipykernel)",
   "language": "python",
   "name": "python3"
  },
  "language_info": {
   "codemirror_mode": {
    "name": "ipython",
    "version": 3
   },
   "file_extension": ".py",
   "mimetype": "text/x-python",
   "name": "python",
   "nbconvert_exporter": "python",
   "pygments_lexer": "ipython3",
   "version": "3.11.9"
  }
 },
 "nbformat": 4,
 "nbformat_minor": 2
}
