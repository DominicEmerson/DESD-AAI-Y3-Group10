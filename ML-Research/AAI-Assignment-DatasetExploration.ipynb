{
 "cells": [
  {
   "cell_type": "markdown",
   "metadata": {
    "id": "SHIQiT1yFI3V",
    "tags": []
   },
   "source": [
    "# Dataset Research"
   ]
  },
  {
   "cell_type": "markdown",
   "metadata": {
    "id": "F5bGtr-uFI3V",
    "tags": []
   },
   "source": []
  },
  {
   "cell_type": "markdown",
   "metadata": {
    "id": "IDG1Yk_CFI3W",
    "tags": []
   },
   "source": [
    "# Global Library Imports"
   ]
  },
  {
   "cell_type": "code",
   "execution_count": 1,
   "metadata": {
    "id": "PvCormKGFI3W",
    "tags": []
   },
   "outputs": [],
   "source": [
    "import pandas as pd\n",
    "import numpy as np\n",
    "import seaborn as sns\n",
    "import matplotlib.pyplot as plt\n",
    "import math\n",
    "import sklearn\n",
    "import ipywidgets as widgets\n",
    "\n",
    "# set matplotlib to display graphics in the notebook\n",
    "%matplotlib inline"
   ]
  },
  {
   "cell_type": "markdown",
   "metadata": {
    "id": "XDuqcj9rFI3X",
    "tags": []
   },
   "source": [
    "# Dataset Import"
   ]
  },
  {
   "cell_type": "markdown",
   "metadata": {
    "id": "jTBLALpUFI3X"
   },
   "source": [
    "This section imports the diabetes dataset provided for the assignment. The dataset is saved in csv format in the same folder as the project notebook. The file is imported into the project as a pandas dataframe object."
   ]
  },
  {
   "cell_type": "code",
   "execution_count": 2,
   "metadata": {
    "id": "zKab0oS5FI3X",
    "tags": []
   },
   "outputs": [
    {
     "name": "stdout",
     "output_type": "stream",
     "text": [
      "Number of records imported: 5000\n"
     ]
    }
   ],
   "source": [
    "# import dataset from csv\n",
    "ml_dataset = pd.read_csv('./Synthetic_Data_For_Students.csv')\n",
    "\n",
    "# confirm number of imported records matches expected size\n",
    "print(\"Number of records imported: \" + str(len(ml_dataset.index)))"
   ]
  },
  {
   "cell_type": "markdown",
   "metadata": {
    "id": "eCTBWw8PFI3X",
    "tags": []
   },
   "source": [
    "# Dataset Initial Exploration"
   ]
  },
  {
   "cell_type": "markdown",
   "metadata": {
    "id": "0a_Qs90pFI3X",
    "tags": []
   },
   "source": [
    "## Display Dataset Summary Info"
   ]
  },
  {
   "cell_type": "code",
   "execution_count": 3,
   "metadata": {
    "id": "7wwbrI7_FI3X",
    "tags": []
   },
   "outputs": [
    {
     "name": "stdout",
     "output_type": "stream",
     "text": [
      "<class 'pandas.core.frame.DataFrame'>\n",
      "RangeIndex: 5000 entries, 0 to 4999\n",
      "Data columns (total 36 columns):\n",
      " #   Column                      Non-Null Count  Dtype  \n",
      "---  ------                      --------------  -----  \n",
      " 0   SettlementValue             4894 non-null   float64\n",
      " 1   AccidentType                4878 non-null   object \n",
      " 2   Injury_Prognosis            4844 non-null   object \n",
      " 3   SpecialHealthExpenses       4870 non-null   float64\n",
      " 4   SpecialReduction            4879 non-null   float64\n",
      " 5   SpecialOverage              4883 non-null   float64\n",
      " 6   GeneralRest                 4872 non-null   float64\n",
      " 7   SpecialAdditionalInjury     4866 non-null   float64\n",
      " 8   SpecialEarningsLoss         4872 non-null   float64\n",
      " 9   SpecialUsageLoss            4870 non-null   float64\n",
      " 10  SpecialMedications          4870 non-null   float64\n",
      " 11  SpecialAssetDamage          4889 non-null   float64\n",
      " 12  SpecialRehabilitation       4884 non-null   float64\n",
      " 13  SpecialFixes                4879 non-null   float64\n",
      " 14  GeneralFixed                4879 non-null   float64\n",
      " 15  GeneralUplift               4863 non-null   float64\n",
      " 16  SpecialLoanerVehicle        4861 non-null   float64\n",
      " 17  SpecialTripCosts            4885 non-null   float64\n",
      " 18  SpecialJourneyExpenses      4853 non-null   float64\n",
      " 19  SpecialTherapy              4868 non-null   float64\n",
      " 20  Exceptional_Circumstances   4891 non-null   object \n",
      " 21  Minor_Psychological_Injury  4881 non-null   object \n",
      " 22  Dominant injury             4890 non-null   object \n",
      " 23  Whiplash                    4870 non-null   object \n",
      " 24  Vehicle Type                4874 non-null   object \n",
      " 25  Weather Conditions          4886 non-null   object \n",
      " 26  Accident Date               4862 non-null   object \n",
      " 27  Claim Date                  4891 non-null   object \n",
      " 28  Vehicle Age                 4874 non-null   float64\n",
      " 29  Driver Age                  4871 non-null   float64\n",
      " 30  Number of Passengers        4878 non-null   float64\n",
      " 31  Accident Description        4880 non-null   object \n",
      " 32  Injury Description          4881 non-null   object \n",
      " 33  Police Report Filed         5000 non-null   object \n",
      " 34  Witness Present             5000 non-null   object \n",
      " 35  Gender                      5000 non-null   object \n",
      "dtypes: float64(21), object(15)\n",
      "memory usage: 1.4+ MB\n"
     ]
    }
   ],
   "source": [
    "ml_dataset.info()"
   ]
  },
  {
   "cell_type": "markdown",
   "metadata": {},
   "source": [
    "All numeric columns are float64 type. \n",
    "All string columns are Object type.\n",
    "\n",
    "There are null values in multiple columns, these will need to be handled appropriately. Discussion with the client has identified that null values in the settlement column indicate unsettled claims, so these should not be used in model training.\n"
   ]
  },
  {
   "cell_type": "markdown",
   "metadata": {},
   "source": [
    "## Removal of unsettled claims entries"
   ]
  },
  {
   "cell_type": "code",
   "execution_count": 4,
   "metadata": {},
   "outputs": [],
   "source": [
    "# remove rows where the settlement column is null\n",
    "ml_dataset = ml_dataset.dropna(subset=['SettlementValue'])\n"
   ]
  },
  {
   "cell_type": "markdown",
   "metadata": {
    "id": "_zRlJuETFI3X"
   },
   "source": [
    "## Display Column Value Ranges"
   ]
  },
  {
   "cell_type": "code",
   "execution_count": 5,
   "metadata": {
    "id": "tkniW8-eFI3X",
    "tags": []
   },
   "outputs": [
    {
     "data": {
      "application/vnd.microsoft.datawrangler.viewer.v0+json": {
       "columns": [
        {
         "name": "index",
         "rawType": "object",
         "type": "string"
        },
        {
         "name": "SettlementValue",
         "rawType": "float64",
         "type": "float"
        },
        {
         "name": "SpecialHealthExpenses",
         "rawType": "float64",
         "type": "float"
        },
        {
         "name": "SpecialReduction",
         "rawType": "float64",
         "type": "float"
        },
        {
         "name": "SpecialOverage",
         "rawType": "float64",
         "type": "float"
        },
        {
         "name": "GeneralRest",
         "rawType": "float64",
         "type": "float"
        },
        {
         "name": "SpecialAdditionalInjury",
         "rawType": "float64",
         "type": "float"
        },
        {
         "name": "SpecialEarningsLoss",
         "rawType": "float64",
         "type": "float"
        },
        {
         "name": "SpecialUsageLoss",
         "rawType": "float64",
         "type": "float"
        },
        {
         "name": "SpecialMedications",
         "rawType": "float64",
         "type": "float"
        },
        {
         "name": "SpecialAssetDamage",
         "rawType": "float64",
         "type": "float"
        },
        {
         "name": "SpecialRehabilitation",
         "rawType": "float64",
         "type": "float"
        },
        {
         "name": "SpecialFixes",
         "rawType": "float64",
         "type": "float"
        },
        {
         "name": "GeneralFixed",
         "rawType": "float64",
         "type": "float"
        },
        {
         "name": "GeneralUplift",
         "rawType": "float64",
         "type": "float"
        },
        {
         "name": "SpecialLoanerVehicle",
         "rawType": "float64",
         "type": "float"
        },
        {
         "name": "SpecialTripCosts",
         "rawType": "float64",
         "type": "float"
        },
        {
         "name": "SpecialJourneyExpenses",
         "rawType": "float64",
         "type": "float"
        },
        {
         "name": "SpecialTherapy",
         "rawType": "float64",
         "type": "float"
        },
        {
         "name": "Vehicle Age",
         "rawType": "float64",
         "type": "float"
        },
        {
         "name": "Driver Age",
         "rawType": "float64",
         "type": "float"
        },
        {
         "name": "Number of Passengers",
         "rawType": "float64",
         "type": "float"
        }
       ],
       "conversionMethod": "pd.DataFrame",
       "ref": "98216861-1c56-46e4-9fcc-00c533ea04ce",
       "rows": [
        [
         "count",
         "4894.0",
         "4777.0",
         "4781.0",
         "4785.0",
         "4775.0",
         "4768.0",
         "4780.0",
         "4773.0",
         "4767.0",
         "4792.0",
         "4787.0",
         "4782.0",
         "4780.0",
         "4768.0",
         "4764.0",
         "4786.0",
         "4758.0",
         "4768.0",
         "4776.0",
         "4776.0",
         "4779.0"
        ],
        [
         "mean",
         "1218.010684511647",
         "3.6820180029307097",
         "0.0",
         "13.470085684430511",
         "462.6055685863874",
         "0.27892197986577183",
         "51.42974058577406",
         "9.12214540121517",
         "0.11206838682609609",
         "33.54037979966611",
         "0.020096093586797575",
         "3.1857047260560436",
         "687.2855648535565",
         "10.45207634228188",
         "7.849840470193115",
         "1.9518904095277896",
         "11.735666246321985",
         "184.58035654362416",
         "9.507956448911223",
         "48.79271356783919",
         "2.482736974262398"
        ],
        [
         "std",
         "858.8663089786392",
         "85.87038602604405",
         "0.0",
         "84.76046202340798",
         "766.9428609844442",
         "13.10106321986387",
         "392.06570599967677",
         "65.94757403266966",
         "1.404760505712915",
         "284.9981181836348",
         "0.6343336504287191",
         "102.31107723665221",
         "399.70104312613375",
         "50.363288562107016",
         "142.57085453696686",
         "13.052006725970111",
         "49.417959924018746",
         "224.29836924035754",
         "5.7306688051146715",
         "17.81763810175355",
         "1.1096560281036225"
        ],
        [
         "min",
         "240.0",
         "0.0",
         "0.0",
         "0.0",
         "0.0",
         "0.0",
         "0.0",
         "0.0",
         "0.0",
         "0.0",
         "0.0",
         "0.0",
         "240.0",
         "0.0",
         "0.0",
         "0.0",
         "0.0",
         "0.0",
         "0.0",
         "18.0",
         "1.0"
        ],
        [
         "25%",
         "669.14",
         "0.0",
         "0.0",
         "0.0",
         "0.0",
         "0.0",
         "0.0",
         "0.0",
         "0.0",
         "0.0",
         "0.0",
         "0.0",
         "495.0",
         "0.0",
         "0.0",
         "0.0",
         "0.0",
         "0.0",
         "4.0",
         "33.0",
         "1.0"
        ],
        [
         "50%",
         "988.0",
         "0.0",
         "0.0",
         "0.0",
         "0.0",
         "0.0",
         "0.0",
         "0.0",
         "0.0",
         "0.0",
         "0.0",
         "0.0",
         "520.0",
         "0.0",
         "0.0",
         "0.0",
         "0.0",
         "56.85",
         "10.0",
         "49.0",
         "2.0"
        ],
        [
         "75%",
         "1510.0",
         "0.0",
         "0.0",
         "0.0",
         "903.0",
         "0.0",
         "0.0",
         "0.0",
         "0.0",
         "0.0",
         "0.0",
         "0.0",
         "895.0",
         "0.0",
         "0.0",
         "0.0",
         "0.0",
         "350.0",
         "14.0",
         "64.0",
         "3.0"
        ],
        [
         "max",
         "7862.9",
         "3024.0",
         "0.0",
         "1250.0",
         "3912.64",
         "889.0",
         "7735.58",
         "1050.0",
         "30.25",
         "6070.0",
         "21.2",
         "4000.0",
         "4345.0",
         "1430.0",
         "4408.16",
         "254.2",
         "880.0",
         "1225.0",
         "19.0",
         "79.0",
         "4.0"
        ]
       ],
       "shape": {
        "columns": 21,
        "rows": 8
       }
      },
      "text/html": [
       "<div>\n",
       "<style scoped>\n",
       "    .dataframe tbody tr th:only-of-type {\n",
       "        vertical-align: middle;\n",
       "    }\n",
       "\n",
       "    .dataframe tbody tr th {\n",
       "        vertical-align: top;\n",
       "    }\n",
       "\n",
       "    .dataframe thead th {\n",
       "        text-align: right;\n",
       "    }\n",
       "</style>\n",
       "<table border=\"1\" class=\"dataframe\">\n",
       "  <thead>\n",
       "    <tr style=\"text-align: right;\">\n",
       "      <th></th>\n",
       "      <th>SettlementValue</th>\n",
       "      <th>SpecialHealthExpenses</th>\n",
       "      <th>SpecialReduction</th>\n",
       "      <th>SpecialOverage</th>\n",
       "      <th>GeneralRest</th>\n",
       "      <th>SpecialAdditionalInjury</th>\n",
       "      <th>SpecialEarningsLoss</th>\n",
       "      <th>SpecialUsageLoss</th>\n",
       "      <th>SpecialMedications</th>\n",
       "      <th>SpecialAssetDamage</th>\n",
       "      <th>...</th>\n",
       "      <th>SpecialFixes</th>\n",
       "      <th>GeneralFixed</th>\n",
       "      <th>GeneralUplift</th>\n",
       "      <th>SpecialLoanerVehicle</th>\n",
       "      <th>SpecialTripCosts</th>\n",
       "      <th>SpecialJourneyExpenses</th>\n",
       "      <th>SpecialTherapy</th>\n",
       "      <th>Vehicle Age</th>\n",
       "      <th>Driver Age</th>\n",
       "      <th>Number of Passengers</th>\n",
       "    </tr>\n",
       "  </thead>\n",
       "  <tbody>\n",
       "    <tr>\n",
       "      <th>count</th>\n",
       "      <td>4894.000000</td>\n",
       "      <td>4777.000000</td>\n",
       "      <td>4781.0</td>\n",
       "      <td>4785.000000</td>\n",
       "      <td>4775.000000</td>\n",
       "      <td>4768.000000</td>\n",
       "      <td>4780.000000</td>\n",
       "      <td>4773.000000</td>\n",
       "      <td>4767.000000</td>\n",
       "      <td>4792.000000</td>\n",
       "      <td>...</td>\n",
       "      <td>4782.000000</td>\n",
       "      <td>4780.000000</td>\n",
       "      <td>4768.000000</td>\n",
       "      <td>4764.000000</td>\n",
       "      <td>4786.000000</td>\n",
       "      <td>4758.000000</td>\n",
       "      <td>4768.000000</td>\n",
       "      <td>4776.000000</td>\n",
       "      <td>4776.000000</td>\n",
       "      <td>4779.000000</td>\n",
       "    </tr>\n",
       "    <tr>\n",
       "      <th>mean</th>\n",
       "      <td>1218.010685</td>\n",
       "      <td>3.682018</td>\n",
       "      <td>0.0</td>\n",
       "      <td>13.470086</td>\n",
       "      <td>462.605569</td>\n",
       "      <td>0.278922</td>\n",
       "      <td>51.429741</td>\n",
       "      <td>9.122145</td>\n",
       "      <td>0.112068</td>\n",
       "      <td>33.540380</td>\n",
       "      <td>...</td>\n",
       "      <td>3.185705</td>\n",
       "      <td>687.285565</td>\n",
       "      <td>10.452076</td>\n",
       "      <td>7.849840</td>\n",
       "      <td>1.951890</td>\n",
       "      <td>11.735666</td>\n",
       "      <td>184.580357</td>\n",
       "      <td>9.507956</td>\n",
       "      <td>48.792714</td>\n",
       "      <td>2.482737</td>\n",
       "    </tr>\n",
       "    <tr>\n",
       "      <th>std</th>\n",
       "      <td>858.866309</td>\n",
       "      <td>85.870386</td>\n",
       "      <td>0.0</td>\n",
       "      <td>84.760462</td>\n",
       "      <td>766.942861</td>\n",
       "      <td>13.101063</td>\n",
       "      <td>392.065706</td>\n",
       "      <td>65.947574</td>\n",
       "      <td>1.404761</td>\n",
       "      <td>284.998118</td>\n",
       "      <td>...</td>\n",
       "      <td>102.311077</td>\n",
       "      <td>399.701043</td>\n",
       "      <td>50.363289</td>\n",
       "      <td>142.570855</td>\n",
       "      <td>13.052007</td>\n",
       "      <td>49.417960</td>\n",
       "      <td>224.298369</td>\n",
       "      <td>5.730669</td>\n",
       "      <td>17.817638</td>\n",
       "      <td>1.109656</td>\n",
       "    </tr>\n",
       "    <tr>\n",
       "      <th>min</th>\n",
       "      <td>240.000000</td>\n",
       "      <td>0.000000</td>\n",
       "      <td>0.0</td>\n",
       "      <td>0.000000</td>\n",
       "      <td>0.000000</td>\n",
       "      <td>0.000000</td>\n",
       "      <td>0.000000</td>\n",
       "      <td>0.000000</td>\n",
       "      <td>0.000000</td>\n",
       "      <td>0.000000</td>\n",
       "      <td>...</td>\n",
       "      <td>0.000000</td>\n",
       "      <td>240.000000</td>\n",
       "      <td>0.000000</td>\n",
       "      <td>0.000000</td>\n",
       "      <td>0.000000</td>\n",
       "      <td>0.000000</td>\n",
       "      <td>0.000000</td>\n",
       "      <td>0.000000</td>\n",
       "      <td>18.000000</td>\n",
       "      <td>1.000000</td>\n",
       "    </tr>\n",
       "    <tr>\n",
       "      <th>25%</th>\n",
       "      <td>669.140000</td>\n",
       "      <td>0.000000</td>\n",
       "      <td>0.0</td>\n",
       "      <td>0.000000</td>\n",
       "      <td>0.000000</td>\n",
       "      <td>0.000000</td>\n",
       "      <td>0.000000</td>\n",
       "      <td>0.000000</td>\n",
       "      <td>0.000000</td>\n",
       "      <td>0.000000</td>\n",
       "      <td>...</td>\n",
       "      <td>0.000000</td>\n",
       "      <td>495.000000</td>\n",
       "      <td>0.000000</td>\n",
       "      <td>0.000000</td>\n",
       "      <td>0.000000</td>\n",
       "      <td>0.000000</td>\n",
       "      <td>0.000000</td>\n",
       "      <td>4.000000</td>\n",
       "      <td>33.000000</td>\n",
       "      <td>1.000000</td>\n",
       "    </tr>\n",
       "    <tr>\n",
       "      <th>50%</th>\n",
       "      <td>988.000000</td>\n",
       "      <td>0.000000</td>\n",
       "      <td>0.0</td>\n",
       "      <td>0.000000</td>\n",
       "      <td>0.000000</td>\n",
       "      <td>0.000000</td>\n",
       "      <td>0.000000</td>\n",
       "      <td>0.000000</td>\n",
       "      <td>0.000000</td>\n",
       "      <td>0.000000</td>\n",
       "      <td>...</td>\n",
       "      <td>0.000000</td>\n",
       "      <td>520.000000</td>\n",
       "      <td>0.000000</td>\n",
       "      <td>0.000000</td>\n",
       "      <td>0.000000</td>\n",
       "      <td>0.000000</td>\n",
       "      <td>56.850000</td>\n",
       "      <td>10.000000</td>\n",
       "      <td>49.000000</td>\n",
       "      <td>2.000000</td>\n",
       "    </tr>\n",
       "    <tr>\n",
       "      <th>75%</th>\n",
       "      <td>1510.000000</td>\n",
       "      <td>0.000000</td>\n",
       "      <td>0.0</td>\n",
       "      <td>0.000000</td>\n",
       "      <td>903.000000</td>\n",
       "      <td>0.000000</td>\n",
       "      <td>0.000000</td>\n",
       "      <td>0.000000</td>\n",
       "      <td>0.000000</td>\n",
       "      <td>0.000000</td>\n",
       "      <td>...</td>\n",
       "      <td>0.000000</td>\n",
       "      <td>895.000000</td>\n",
       "      <td>0.000000</td>\n",
       "      <td>0.000000</td>\n",
       "      <td>0.000000</td>\n",
       "      <td>0.000000</td>\n",
       "      <td>350.000000</td>\n",
       "      <td>14.000000</td>\n",
       "      <td>64.000000</td>\n",
       "      <td>3.000000</td>\n",
       "    </tr>\n",
       "    <tr>\n",
       "      <th>max</th>\n",
       "      <td>7862.900000</td>\n",
       "      <td>3024.000000</td>\n",
       "      <td>0.0</td>\n",
       "      <td>1250.000000</td>\n",
       "      <td>3912.640000</td>\n",
       "      <td>889.000000</td>\n",
       "      <td>7735.580000</td>\n",
       "      <td>1050.000000</td>\n",
       "      <td>30.250000</td>\n",
       "      <td>6070.000000</td>\n",
       "      <td>...</td>\n",
       "      <td>4000.000000</td>\n",
       "      <td>4345.000000</td>\n",
       "      <td>1430.000000</td>\n",
       "      <td>4408.160000</td>\n",
       "      <td>254.200000</td>\n",
       "      <td>880.000000</td>\n",
       "      <td>1225.000000</td>\n",
       "      <td>19.000000</td>\n",
       "      <td>79.000000</td>\n",
       "      <td>4.000000</td>\n",
       "    </tr>\n",
       "  </tbody>\n",
       "</table>\n",
       "<p>8 rows × 21 columns</p>\n",
       "</div>"
      ],
      "text/plain": [
       "       SettlementValue  SpecialHealthExpenses  SpecialReduction  \\\n",
       "count      4894.000000            4777.000000            4781.0   \n",
       "mean       1218.010685               3.682018               0.0   \n",
       "std         858.866309              85.870386               0.0   \n",
       "min         240.000000               0.000000               0.0   \n",
       "25%         669.140000               0.000000               0.0   \n",
       "50%         988.000000               0.000000               0.0   \n",
       "75%        1510.000000               0.000000               0.0   \n",
       "max        7862.900000            3024.000000               0.0   \n",
       "\n",
       "       SpecialOverage  GeneralRest  SpecialAdditionalInjury  \\\n",
       "count     4785.000000  4775.000000              4768.000000   \n",
       "mean        13.470086   462.605569                 0.278922   \n",
       "std         84.760462   766.942861                13.101063   \n",
       "min          0.000000     0.000000                 0.000000   \n",
       "25%          0.000000     0.000000                 0.000000   \n",
       "50%          0.000000     0.000000                 0.000000   \n",
       "75%          0.000000   903.000000                 0.000000   \n",
       "max       1250.000000  3912.640000               889.000000   \n",
       "\n",
       "       SpecialEarningsLoss  SpecialUsageLoss  SpecialMedications  \\\n",
       "count          4780.000000       4773.000000         4767.000000   \n",
       "mean             51.429741          9.122145            0.112068   \n",
       "std             392.065706         65.947574            1.404761   \n",
       "min               0.000000          0.000000            0.000000   \n",
       "25%               0.000000          0.000000            0.000000   \n",
       "50%               0.000000          0.000000            0.000000   \n",
       "75%               0.000000          0.000000            0.000000   \n",
       "max            7735.580000       1050.000000           30.250000   \n",
       "\n",
       "       SpecialAssetDamage  ...  SpecialFixes  GeneralFixed  GeneralUplift  \\\n",
       "count         4792.000000  ...   4782.000000   4780.000000    4768.000000   \n",
       "mean            33.540380  ...      3.185705    687.285565      10.452076   \n",
       "std            284.998118  ...    102.311077    399.701043      50.363289   \n",
       "min              0.000000  ...      0.000000    240.000000       0.000000   \n",
       "25%              0.000000  ...      0.000000    495.000000       0.000000   \n",
       "50%              0.000000  ...      0.000000    520.000000       0.000000   \n",
       "75%              0.000000  ...      0.000000    895.000000       0.000000   \n",
       "max           6070.000000  ...   4000.000000   4345.000000    1430.000000   \n",
       "\n",
       "       SpecialLoanerVehicle  SpecialTripCosts  SpecialJourneyExpenses  \\\n",
       "count           4764.000000       4786.000000             4758.000000   \n",
       "mean               7.849840          1.951890               11.735666   \n",
       "std              142.570855         13.052007               49.417960   \n",
       "min                0.000000          0.000000                0.000000   \n",
       "25%                0.000000          0.000000                0.000000   \n",
       "50%                0.000000          0.000000                0.000000   \n",
       "75%                0.000000          0.000000                0.000000   \n",
       "max             4408.160000        254.200000              880.000000   \n",
       "\n",
       "       SpecialTherapy  Vehicle Age   Driver Age  Number of Passengers  \n",
       "count     4768.000000  4776.000000  4776.000000           4779.000000  \n",
       "mean       184.580357     9.507956    48.792714              2.482737  \n",
       "std        224.298369     5.730669    17.817638              1.109656  \n",
       "min          0.000000     0.000000    18.000000              1.000000  \n",
       "25%          0.000000     4.000000    33.000000              1.000000  \n",
       "50%         56.850000    10.000000    49.000000              2.000000  \n",
       "75%        350.000000    14.000000    64.000000              3.000000  \n",
       "max       1225.000000    19.000000    79.000000              4.000000  \n",
       "\n",
       "[8 rows x 21 columns]"
      ]
     },
     "execution_count": 5,
     "metadata": {},
     "output_type": "execute_result"
    }
   ],
   "source": [
    "# display summary statistics for numerical columns\n",
    "ml_dataset.describe()"
   ]
  },
  {
   "cell_type": "markdown",
   "metadata": {},
   "source": [
    "## Show total values for each numerical column"
   ]
  },
  {
   "cell_type": "code",
   "execution_count": 6,
   "metadata": {},
   "outputs": [
    {
     "name": "stdout",
     "output_type": "stream",
     "text": [
      "column - count of non-zero - sum of values - mean values (excluding zero rows)\n",
      "SettlementValue - 4894 - 5960944.29 - 1218.010684511647\n",
      "SpecialHealthExpenses - 16 - 17589.0 - 1099.3125\n",
      "SpecialReduction - 0 - 0.0 - nan\n",
      "SpecialOverage - 157 - 64454.36 - 410.5373248407643\n",
      "GeneralRest - 1633 - 2208941.59 - 1352.6892774035516\n",
      "SpecialAdditionalInjury - 8 - 1329.9 - 166.2375\n",
      "SpecialEarningsLoss - 289 - 245834.16 - 850.63723183391\n",
      "SpecialUsageLoss - 237 - 43540.0 - 183.71308016877637\n",
      "SpecialMedications - 38 - 534.23 - 14.058684210526316\n",
      "SpecialAssetDamage - 461 - 160725.5 - 348.6453362255965\n",
      "SpecialRehabilitation - 5 - 96.19999999999999 - 19.24\n",
      "SpecialFixes - 9 - 15234.04 - 1692.6711111111113\n",
      "GeneralFixed - 4780 - 3285225.0 - 687.2855648535565\n",
      "GeneralUplift - 306 - 49835.5 - 162.86111111111111\n",
      "SpecialLoanerVehicle - 67 - 37396.64 - 558.1588059701493\n",
      "SpecialTripCosts - 252 - 9341.747500000001 - 37.07042658730159\n",
      "SpecialJourneyExpenses - 987 - 55838.3 - 56.57375886524823\n",
      "SpecialTherapy - 2664 - 880079.14 - 330.36003753753755\n",
      "Vehicle Age - 4552 - 45410.0 - 9.975834797891038\n",
      "Driver Age - 4776 - 233034.0 - 48.79271356783919\n",
      "Number of Passengers - 4779 - 11865.0 - 2.482736974262398\n"
     ]
    },
    {
     "name": "stderr",
     "output_type": "stream",
     "text": [
      "C:\\Users\\BB\\AppData\\Local\\Temp\\ipykernel_15980\\713326286.py:4: RuntimeWarning: invalid value encountered in scalar divide\n",
      "  print(column + \" - \" + str(ml_dataset[ml_dataset[column] != 0][column].count()) + \" - \" + str(ml_dataset[column].sum()) + \" - \" + str((ml_dataset[column].sum() / ml_dataset[ml_dataset[column] != 0][column].count())))\n"
     ]
    }
   ],
   "source": [
    "# for each numerical column, diplay the count of non-zero values\n",
    "print(\"column - count of non-zero - sum of values - mean values (excluding zero rows)\")\n",
    "for column in ml_dataset.select_dtypes(include='float64'):\n",
    "    print(column + \" - \" + str(ml_dataset[ml_dataset[column] != 0][column].count()) + \" - \" + str(ml_dataset[column].sum()) + \" - \" + str((ml_dataset[column].sum() / ml_dataset[ml_dataset[column] != 0][column].count())))\n",
    "\n"
   ]
  },
  {
   "cell_type": "markdown",
   "metadata": {},
   "source": [
    "Looking at the values above, SpecialReduction can be ignored as there are no non-zero values.\n",
    "\n",
    "SpecialRehabilitation can be ignored as it appears infrequently and contributes little to overall settlement amount (max value £21).\n",
    "\n",
    "SpecialMedication can be ignored as it appears infrequently and contributes little to overall settlement amount (max value £30).\n",
    "\n",
    "Columns with a high maximum value but low mean are candidates for grouping and further analysis is required.\n",
    "\n",
    "SpecialAdditionalInjury, SpecialFixes, SpecialHealthExpenses and SpecialLoanerVehicle could all be relevant groups, as they have low frequency but can be high value.\n",
    "\n",
    "GeneralUplift - there are a small number of high values in this column\n",
    "\n",
    "SpecialTripCosts and SpecialJourneyExpenses may be important - need to perform further analysis\n",
    "\n",
    "\n",
    "Recommend investigating the relationship and correlations between the different types of columns (eg. can medical / trip+journey expenses be grouped)\n"
   ]
  },
  {
   "cell_type": "markdown",
   "metadata": {},
   "source": [
    "## Removal of Columns"
   ]
  },
  {
   "cell_type": "markdown",
   "metadata": {},
   "source": [
    "Along with the numerical columns identified above, Gender and age values should be dropped as they are protected characteristics and should not be used for training models due to the possibility of introducing bias into the model."
   ]
  },
  {
   "cell_type": "code",
   "execution_count": 7,
   "metadata": {},
   "outputs": [],
   "source": [
    "ml_dataset_dropcols = ml_dataset.drop(columns=['SpecialReduction','SpecialRehabilitation','SpecialMedications','Driver Age','Gender'])\n",
    "ml_dataset = ml_dataset_dropcols"
   ]
  },
  {
   "cell_type": "markdown",
   "metadata": {
    "id": "g0UiWXMdFI3X",
    "tags": []
   },
   "source": [
    "## Display the first x rows of the dataset using a slider widget"
   ]
  },
  {
   "cell_type": "code",
   "execution_count": 8,
   "metadata": {},
   "outputs": [
    {
     "data": {
      "application/vnd.microsoft.datawrangler.viewer.v0+json": {
       "columns": [
        {
         "name": "index",
         "rawType": "int64",
         "type": "integer"
        },
        {
         "name": "SettlementValue",
         "rawType": "float64",
         "type": "float"
        },
        {
         "name": "AccidentType",
         "rawType": "object",
         "type": "string"
        },
        {
         "name": "Injury_Prognosis",
         "rawType": "object",
         "type": "string"
        },
        {
         "name": "SpecialHealthExpenses",
         "rawType": "float64",
         "type": "float"
        },
        {
         "name": "SpecialOverage",
         "rawType": "float64",
         "type": "float"
        },
        {
         "name": "GeneralRest",
         "rawType": "float64",
         "type": "float"
        },
        {
         "name": "SpecialAdditionalInjury",
         "rawType": "float64",
         "type": "float"
        },
        {
         "name": "SpecialEarningsLoss",
         "rawType": "float64",
         "type": "float"
        },
        {
         "name": "SpecialUsageLoss",
         "rawType": "float64",
         "type": "float"
        },
        {
         "name": "SpecialAssetDamage",
         "rawType": "float64",
         "type": "float"
        },
        {
         "name": "SpecialFixes",
         "rawType": "float64",
         "type": "float"
        },
        {
         "name": "GeneralFixed",
         "rawType": "float64",
         "type": "float"
        },
        {
         "name": "GeneralUplift",
         "rawType": "float64",
         "type": "float"
        },
        {
         "name": "SpecialLoanerVehicle",
         "rawType": "float64",
         "type": "float"
        },
        {
         "name": "SpecialTripCosts",
         "rawType": "float64",
         "type": "float"
        },
        {
         "name": "SpecialJourneyExpenses",
         "rawType": "float64",
         "type": "float"
        },
        {
         "name": "SpecialTherapy",
         "rawType": "float64",
         "type": "float"
        },
        {
         "name": "Exceptional_Circumstances",
         "rawType": "object",
         "type": "string"
        },
        {
         "name": "Minor_Psychological_Injury",
         "rawType": "object",
         "type": "string"
        },
        {
         "name": "Dominant injury",
         "rawType": "object",
         "type": "string"
        },
        {
         "name": "Whiplash",
         "rawType": "object",
         "type": "string"
        },
        {
         "name": "Vehicle Type",
         "rawType": "object",
         "type": "string"
        },
        {
         "name": "Weather Conditions",
         "rawType": "object",
         "type": "string"
        },
        {
         "name": "Accident Date",
         "rawType": "object",
         "type": "string"
        },
        {
         "name": "Claim Date",
         "rawType": "object",
         "type": "string"
        },
        {
         "name": "Vehicle Age",
         "rawType": "float64",
         "type": "float"
        },
        {
         "name": "Number of Passengers",
         "rawType": "float64",
         "type": "float"
        },
        {
         "name": "Accident Description",
         "rawType": "object",
         "type": "string"
        },
        {
         "name": "Injury Description",
         "rawType": "object",
         "type": "string"
        },
        {
         "name": "Police Report Filed",
         "rawType": "object",
         "type": "string"
        },
        {
         "name": "Witness Present",
         "rawType": "object",
         "type": "string"
        }
       ],
       "conversionMethod": "pd.DataFrame",
       "ref": "08669027-cfaf-46d7-92fd-0ba7daf09d60",
       "rows": [
        [
         "0",
         "520.0",
         "Rear end",
         "E. 5 months",
         "0.0",
         "0.0",
         "0.0",
         "0.0",
         "0.0",
         "0.0",
         "0.0",
         "0.0",
         "520.0",
         "0.0",
         "0.0",
         "0.0",
         "0.0",
         "0.0",
         "No",
         "Yes",
         "Arms",
         "Yes",
         "Motorcycle",
         "Rainy",
         "2023-11-10 11:22:24.508901",
         "2024-06-11 11:22:24.508901",
         "13.0",
         "4.0",
         "Side collision at an intersection.",
         "Whiplash and minor bruises.",
         "Yes",
         "Yes"
        ],
        [
         "1",
         "870.0",
         "Rear end",
         "B. 2 months",
         "0.0",
         "0.0",
         "520.0",
         "0.0",
         "0.0",
         "90.0",
         "0.0",
         "0.0",
         "260.0",
         "0.0",
         "0.0",
         "0.0",
         "0.0",
         "0.0",
         "No",
         "Yes",
         "Multiple",
         "Yes",
         "Motorcycle",
         "Snowy",
         "2023-06-25 00:55:01.140228",
         "2024-01-09 00:55:01.140228",
         "4.0",
         "2.0",
         "Side collision at an intersection.",
         "Minor cuts and scrapes.",
         "Yes",
         "Yes"
        ],
        [
         "2",
         "2140.0",
         "Other side pulled out of side road",
         "G. 7 months",
         "0.0",
         "0.0",
         "1400.0",
         "0.0",
         "0.0",
         "0.0",
         "0.0",
         "0.0",
         "840.0",
         "0.0",
         "0.0",
         "0.0",
         "0.0",
         "0.0",
         "No",
         "No",
         "Legs",
         "Yes",
         "Motorcycle",
         "Sunny",
         "2020-02-23 17:43:47.805561",
         "2020-03-01 17:43:47.805561",
         "9.0",
         "4.0",
         "Lost control on a snowy road.",
         "Whiplash and minor bruises.",
         "Yes",
         "No"
        ],
        [
         "3",
         "520.0",
         "Rear end - Clt pushed into next vehicle",
         "D. 4 months",
         "0.0",
         "0.0",
         "0.0",
         "0.0",
         "0.0",
         "0.0",
         "0.0",
         "0.0",
         "520.0",
         "0.0",
         "0.0",
         "0.0",
         "0.0",
         "0.0",
         "No",
         "Yes",
         "Arms",
         "Yes",
         "Truck",
         "Rainy",
         "2021-10-02 04:36:32.118423",
         "2021-10-13 04:36:32.118423",
         "5.0",
         "1.0",
         "Side collision at an intersection.",
         "Minor cuts and scrapes.",
         "Yes",
         "Yes"
        ],
        [
         "4",
         "260.0",
         "Rear end",
         "C. 3 months",
         "0.0",
         "0.0",
         "0.0",
         "0.0",
         "0.0",
         "0.0",
         "0.0",
         "0.0",
         "260.0",
         "0.0",
         "0.0",
         "0.0",
         "0.0",
         "0.0",
         "No",
         "Yes",
         "Arms",
         "No",
         "Motorcycle",
         "Rainy",
         "2023-04-02 05:13:07.117423",
         "2023-04-14 05:13:07.117423",
         "9.0",
         "1.0",
         "Lost control on a snowy road.",
         "Concussion and bruised ribs.",
         "Yes",
         "Yes"
        ]
       ],
       "shape": {
        "columns": 31,
        "rows": 5
       }
      },
      "text/html": [
       "<div>\n",
       "<style scoped>\n",
       "    .dataframe tbody tr th:only-of-type {\n",
       "        vertical-align: middle;\n",
       "    }\n",
       "\n",
       "    .dataframe tbody tr th {\n",
       "        vertical-align: top;\n",
       "    }\n",
       "\n",
       "    .dataframe thead th {\n",
       "        text-align: right;\n",
       "    }\n",
       "</style>\n",
       "<table border=\"1\" class=\"dataframe\">\n",
       "  <thead>\n",
       "    <tr style=\"text-align: right;\">\n",
       "      <th></th>\n",
       "      <th>SettlementValue</th>\n",
       "      <th>AccidentType</th>\n",
       "      <th>Injury_Prognosis</th>\n",
       "      <th>SpecialHealthExpenses</th>\n",
       "      <th>SpecialOverage</th>\n",
       "      <th>GeneralRest</th>\n",
       "      <th>SpecialAdditionalInjury</th>\n",
       "      <th>SpecialEarningsLoss</th>\n",
       "      <th>SpecialUsageLoss</th>\n",
       "      <th>SpecialAssetDamage</th>\n",
       "      <th>...</th>\n",
       "      <th>Vehicle Type</th>\n",
       "      <th>Weather Conditions</th>\n",
       "      <th>Accident Date</th>\n",
       "      <th>Claim Date</th>\n",
       "      <th>Vehicle Age</th>\n",
       "      <th>Number of Passengers</th>\n",
       "      <th>Accident Description</th>\n",
       "      <th>Injury Description</th>\n",
       "      <th>Police Report Filed</th>\n",
       "      <th>Witness Present</th>\n",
       "    </tr>\n",
       "  </thead>\n",
       "  <tbody>\n",
       "    <tr>\n",
       "      <th>0</th>\n",
       "      <td>520.0</td>\n",
       "      <td>Rear end</td>\n",
       "      <td>E. 5 months</td>\n",
       "      <td>0.0</td>\n",
       "      <td>0.0</td>\n",
       "      <td>0.0</td>\n",
       "      <td>0.0</td>\n",
       "      <td>0.0</td>\n",
       "      <td>0.0</td>\n",
       "      <td>0.0</td>\n",
       "      <td>...</td>\n",
       "      <td>Motorcycle</td>\n",
       "      <td>Rainy</td>\n",
       "      <td>2023-11-10 11:22:24.508901</td>\n",
       "      <td>2024-06-11 11:22:24.508901</td>\n",
       "      <td>13.0</td>\n",
       "      <td>4.0</td>\n",
       "      <td>Side collision at an intersection.</td>\n",
       "      <td>Whiplash and minor bruises.</td>\n",
       "      <td>Yes</td>\n",
       "      <td>Yes</td>\n",
       "    </tr>\n",
       "    <tr>\n",
       "      <th>1</th>\n",
       "      <td>870.0</td>\n",
       "      <td>Rear end</td>\n",
       "      <td>B. 2 months</td>\n",
       "      <td>0.0</td>\n",
       "      <td>0.0</td>\n",
       "      <td>520.0</td>\n",
       "      <td>0.0</td>\n",
       "      <td>0.0</td>\n",
       "      <td>90.0</td>\n",
       "      <td>0.0</td>\n",
       "      <td>...</td>\n",
       "      <td>Motorcycle</td>\n",
       "      <td>Snowy</td>\n",
       "      <td>2023-06-25 00:55:01.140228</td>\n",
       "      <td>2024-01-09 00:55:01.140228</td>\n",
       "      <td>4.0</td>\n",
       "      <td>2.0</td>\n",
       "      <td>Side collision at an intersection.</td>\n",
       "      <td>Minor cuts and scrapes.</td>\n",
       "      <td>Yes</td>\n",
       "      <td>Yes</td>\n",
       "    </tr>\n",
       "    <tr>\n",
       "      <th>2</th>\n",
       "      <td>2140.0</td>\n",
       "      <td>Other side pulled out of side road</td>\n",
       "      <td>G. 7 months</td>\n",
       "      <td>0.0</td>\n",
       "      <td>0.0</td>\n",
       "      <td>1400.0</td>\n",
       "      <td>0.0</td>\n",
       "      <td>0.0</td>\n",
       "      <td>0.0</td>\n",
       "      <td>0.0</td>\n",
       "      <td>...</td>\n",
       "      <td>Motorcycle</td>\n",
       "      <td>Sunny</td>\n",
       "      <td>2020-02-23 17:43:47.805561</td>\n",
       "      <td>2020-03-01 17:43:47.805561</td>\n",
       "      <td>9.0</td>\n",
       "      <td>4.0</td>\n",
       "      <td>Lost control on a snowy road.</td>\n",
       "      <td>Whiplash and minor bruises.</td>\n",
       "      <td>Yes</td>\n",
       "      <td>No</td>\n",
       "    </tr>\n",
       "    <tr>\n",
       "      <th>3</th>\n",
       "      <td>520.0</td>\n",
       "      <td>Rear end - Clt pushed into next vehicle</td>\n",
       "      <td>D. 4 months</td>\n",
       "      <td>0.0</td>\n",
       "      <td>0.0</td>\n",
       "      <td>0.0</td>\n",
       "      <td>0.0</td>\n",
       "      <td>0.0</td>\n",
       "      <td>0.0</td>\n",
       "      <td>0.0</td>\n",
       "      <td>...</td>\n",
       "      <td>Truck</td>\n",
       "      <td>Rainy</td>\n",
       "      <td>2021-10-02 04:36:32.118423</td>\n",
       "      <td>2021-10-13 04:36:32.118423</td>\n",
       "      <td>5.0</td>\n",
       "      <td>1.0</td>\n",
       "      <td>Side collision at an intersection.</td>\n",
       "      <td>Minor cuts and scrapes.</td>\n",
       "      <td>Yes</td>\n",
       "      <td>Yes</td>\n",
       "    </tr>\n",
       "    <tr>\n",
       "      <th>4</th>\n",
       "      <td>260.0</td>\n",
       "      <td>Rear end</td>\n",
       "      <td>C. 3 months</td>\n",
       "      <td>0.0</td>\n",
       "      <td>0.0</td>\n",
       "      <td>0.0</td>\n",
       "      <td>0.0</td>\n",
       "      <td>0.0</td>\n",
       "      <td>0.0</td>\n",
       "      <td>0.0</td>\n",
       "      <td>...</td>\n",
       "      <td>Motorcycle</td>\n",
       "      <td>Rainy</td>\n",
       "      <td>2023-04-02 05:13:07.117423</td>\n",
       "      <td>2023-04-14 05:13:07.117423</td>\n",
       "      <td>9.0</td>\n",
       "      <td>1.0</td>\n",
       "      <td>Lost control on a snowy road.</td>\n",
       "      <td>Concussion and bruised ribs.</td>\n",
       "      <td>Yes</td>\n",
       "      <td>Yes</td>\n",
       "    </tr>\n",
       "  </tbody>\n",
       "</table>\n",
       "<p>5 rows × 31 columns</p>\n",
       "</div>"
      ],
      "text/plain": [
       "   SettlementValue                             AccidentType Injury_Prognosis  \\\n",
       "0            520.0                                 Rear end      E. 5 months   \n",
       "1            870.0                                 Rear end      B. 2 months   \n",
       "2           2140.0       Other side pulled out of side road      G. 7 months   \n",
       "3            520.0  Rear end - Clt pushed into next vehicle      D. 4 months   \n",
       "4            260.0                                 Rear end      C. 3 months   \n",
       "\n",
       "   SpecialHealthExpenses  SpecialOverage  GeneralRest  \\\n",
       "0                    0.0             0.0          0.0   \n",
       "1                    0.0             0.0        520.0   \n",
       "2                    0.0             0.0       1400.0   \n",
       "3                    0.0             0.0          0.0   \n",
       "4                    0.0             0.0          0.0   \n",
       "\n",
       "   SpecialAdditionalInjury  SpecialEarningsLoss  SpecialUsageLoss  \\\n",
       "0                      0.0                  0.0               0.0   \n",
       "1                      0.0                  0.0              90.0   \n",
       "2                      0.0                  0.0               0.0   \n",
       "3                      0.0                  0.0               0.0   \n",
       "4                      0.0                  0.0               0.0   \n",
       "\n",
       "   SpecialAssetDamage  ...  Vehicle Type  Weather Conditions  \\\n",
       "0                 0.0  ...    Motorcycle               Rainy   \n",
       "1                 0.0  ...    Motorcycle               Snowy   \n",
       "2                 0.0  ...    Motorcycle               Sunny   \n",
       "3                 0.0  ...         Truck               Rainy   \n",
       "4                 0.0  ...    Motorcycle               Rainy   \n",
       "\n",
       "                Accident Date                  Claim Date  Vehicle Age  \\\n",
       "0  2023-11-10 11:22:24.508901  2024-06-11 11:22:24.508901         13.0   \n",
       "1  2023-06-25 00:55:01.140228  2024-01-09 00:55:01.140228          4.0   \n",
       "2  2020-02-23 17:43:47.805561  2020-03-01 17:43:47.805561          9.0   \n",
       "3  2021-10-02 04:36:32.118423  2021-10-13 04:36:32.118423          5.0   \n",
       "4  2023-04-02 05:13:07.117423  2023-04-14 05:13:07.117423          9.0   \n",
       "\n",
       "   Number of Passengers                Accident Description  \\\n",
       "0                   4.0  Side collision at an intersection.   \n",
       "1                   2.0  Side collision at an intersection.   \n",
       "2                   4.0       Lost control on a snowy road.   \n",
       "3                   1.0  Side collision at an intersection.   \n",
       "4                   1.0       Lost control on a snowy road.   \n",
       "\n",
       "             Injury Description Police Report Filed Witness Present  \n",
       "0   Whiplash and minor bruises.                 Yes             Yes  \n",
       "1       Minor cuts and scrapes.                 Yes             Yes  \n",
       "2   Whiplash and minor bruises.                 Yes              No  \n",
       "3       Minor cuts and scrapes.                 Yes             Yes  \n",
       "4  Concussion and bruised ribs.                 Yes             Yes  \n",
       "\n",
       "[5 rows x 31 columns]"
      ]
     },
     "metadata": {},
     "output_type": "display_data"
    },
    {
     "data": {
      "application/vnd.jupyter.widget-view+json": {
       "model_id": "a5e5b163b5224f988e268097293b9569",
       "version_major": 2,
       "version_minor": 0
      },
      "text/plain": [
       "interactive(children=(IntSlider(value=5, description='x', max=50, min=5, step=5), Output()), _dom_classes=('wi…"
      ]
     },
     "metadata": {},
     "output_type": "display_data"
    },
    {
     "data": {
      "text/plain": [
       "<function __main__.<lambda>(x)>"
      ]
     },
     "execution_count": 8,
     "metadata": {},
     "output_type": "execute_result"
    }
   ],
   "source": [
    "widgets.interact(lambda x: ml_dataset.head(x), x=(widgets.IntSlider(min=5, max=50, step=5, value=5)))"
   ]
  },
  {
   "cell_type": "markdown",
   "metadata": {
    "id": "lvTsLPTIFI3Y",
    "tags": []
   },
   "source": [
    "# Data Preparation"
   ]
  },
  {
   "cell_type": "markdown",
   "metadata": {},
   "source": [
    "## Show unique values for each text field"
   ]
  },
  {
   "cell_type": "code",
   "execution_count": 12,
   "metadata": {},
   "outputs": [],
   "source": [
    "def display_text_values(col):\n",
    "    print(col.name, 'Unique values:', col.unique())"
   ]
  },
  {
   "cell_type": "code",
   "execution_count": 16,
   "metadata": {},
   "outputs": [
    {
     "name": "stdout",
     "output_type": "stream",
     "text": [
      "AccidentType Unique values: ['Rear end' 'Other side pulled out of side road'\n",
      " 'Rear end - Clt pushed into next vehicle'\n",
      " 'Other side pulled on to roundabout' nan\n",
      " \"Other side reversed into Clt's vehicle\"\n",
      " \"Other side changed lanes and collided with clt's vehicle\" 'Other'\n",
      " \"Other side turned across Clt's path\"\n",
      " 'Other side drove on wrong side of the road'\n",
      " \"Other side changed lanes on a roundabout colliding with clt's vehicle\"\n",
      " 'Rear end - 3 car - Clt at front'\n",
      " \"Other side reversed into clt's stationary vehicle\"\n",
      " \"Other side collided with Clt's parked vehicle\"\n",
      " \"Other side pulled from parked position into the path of clt's vehicle\"\n",
      " \"Other side opened their door, hitting clt's vehicle\"\n",
      " 'Other side overtook and hit Clt when pulling in'\n",
      " 'Other side overtook and pulled in too soon'\n",
      " 'Other side overtook whilst clt was turning right']\n",
      "Exceptional_Circumstances Unique values: ['No' 'Yes' nan]\n",
      "Minor_Psychological_Injury Unique values: ['Yes' 'No' nan]\n",
      "Dominant injury Unique values: ['Arms' 'Multiple' 'Legs' 'Hips' nan]\n",
      "Whiplash Unique values: ['Yes' 'No' nan]\n",
      "Vehicle Type Unique values: ['Motorcycle' 'Truck' 'Car' nan]\n",
      "Weather Conditions Unique values: ['Rainy' 'Snowy' 'Sunny' nan]\n",
      "Accident Date Unique values: ['2023-11-10 11:22:24.508901' '2023-06-25 00:55:01.140228'\n",
      " '2020-02-23 17:43:47.805561' ... '2022-11-27 08:09:59.159831'\n",
      " '2022-09-14 10:47:15.927185' '2023-05-30 15:05:56.471294']\n",
      "Claim Date Unique values: ['2024-06-11 11:22:24.508901' '2024-01-09 00:55:01.140228'\n",
      " '2020-03-01 17:43:47.805561' ... '2023-08-05 13:27:25.529105'\n",
      " '2023-10-18 05:32:42.392478' '2020-06-05 00:11:14.054810']\n",
      "Accident Description Unique values: ['Side collision at an intersection.' 'Lost control on a snowy road.'\n",
      " 'Hit a deer on the highway.' 'Swerved to avoid another vehicle.'\n",
      " 'Rear-ended at a stoplight.' nan]\n",
      "Injury Description Unique values: ['Whiplash and minor bruises.' 'Minor cuts and scrapes.'\n",
      " 'Concussion and bruised ribs.' 'Fractured arm and leg.'\n",
      " 'Sprained ankle and wrist.' nan]\n",
      "Police Report Filed Unique values: ['Yes' 'No']\n",
      "Witness Present Unique values: ['Yes' 'No']\n"
     ]
    }
   ],
   "source": [
    "for column in ml_dataset.select_dtypes(include='object'):\n",
    "    display_text_values(ml_dataset[column])"
   ]
  },
  {
   "cell_type": "markdown",
   "metadata": {},
   "source": [
    "The InjuryPrognosis column should be converted to an integer value representing number of months\n",
    "\n",
    "Exceptional_Circumstances, Minor_Psychological_Injury, Whiplash, Police Report Filed, Witness Present should be converted to binary value using one-hot, however handling of any null values must be addressed first. Most likely conclusion is that a blank field is treated as a no, however the claim entry form should use a drop down allowing only Yes or No, with a default value of No to prevent missing data in future records. Likewise for other input fields (weather, vehicle, injury type) these should offer a drop down selection menu, but be blank by default and input validation should prevent record creation without a value being entered.\n",
    "\n",
    "Accident Date and Claim Date are unlikely to be relevant to the claim details, however the difference between these dates may be indicative of claim success due to difficulty in proving fault retrospectively. As such, a new column could be created showing the time elapsed between these dates.\n",
    "\n",
    "Unless there are significant correlations to the settlement outcomes, retaining Injury description and dominant injury type is probably not needed, will perform analysis to determine which can be dropped. Likewise for accident type and accident description."
   ]
  },
  {
   "cell_type": "markdown",
   "metadata": {},
   "source": [
    "## Convert prognosis to integer\n",
    "Prognosis is likely to be an important factor in determining the outcome. Initilly considered dropping the rows with NaN for prognosis, however some of the claims with NaN prognosis resulted in large payouts, so it may be important to keep the data. I suspect that once the remaining categorical data has been properly encoded or removed, then it will be possible to use a KNN imputer to fill in the prognosis column null values"
   ]
  },
  {
   "cell_type": "code",
   "execution_count": 14,
   "metadata": {},
   "outputs": [
    {
     "name": "stdout",
     "output_type": "stream",
     "text": [
      "0        5\n",
      "1        2\n",
      "2        7\n",
      "3        4\n",
      "4        3\n",
      "5        6\n",
      "6     <NA>\n",
      "7        8\n",
      "8        6\n",
      "9        2\n",
      "10       6\n",
      "11       6\n",
      "12       7\n",
      "13       5\n",
      "14       9\n",
      "15       9\n",
      "16       5\n",
      "17       5\n",
      "18       7\n",
      "19       4\n",
      "Name: Injury_Prognosis, dtype: Int64\n"
     ]
    }
   ],
   "source": [
    "# Extract numbers and convert to nullable integer type\n",
    "ml_dataset['Injury_Prognosis'] = (\n",
    "    ml_dataset['Injury_Prognosis']\n",
    "    .str.extract('(\\d+)', expand=False)\n",
    "    .astype('Int64')\n",
    ")\n",
    "print(ml_dataset['Injury_Prognosis'].head(20))"
   ]
  },
  {
   "cell_type": "markdown",
   "metadata": {},
   "source": [
    "## Check for Duplicate Rows"
   ]
  },
  {
   "cell_type": "markdown",
   "metadata": {},
   "source": [
    "Duplicate rows contaminate the data and could skew the training process, negatively impacting prediction performance."
   ]
  },
  {
   "cell_type": "code",
   "execution_count": 31,
   "metadata": {},
   "outputs": [
    {
     "name": "stdout",
     "output_type": "stream",
     "text": [
      "False\n",
      "Empty DataFrame\n",
      "Columns: [SettlementValue, AccidentType, Injury_Prognosis, SpecialHealthExpenses, SpecialOverage, GeneralRest, SpecialAdditionalInjury, SpecialEarningsLoss, SpecialUsageLoss, SpecialAssetDamage, SpecialFixes, GeneralFixed, GeneralUplift, SpecialLoanerVehicle, SpecialTripCosts, SpecialJourneyExpenses, SpecialTherapy, Exceptional_Circumstances, Minor_Psychological_Injury, Dominant injury, Whiplash, Vehicle Type, Weather Conditions, Accident Date, Claim Date, Vehicle Age, Number of Passengers, Accident Description, Injury Description, Police Report Filed, Witness Present]\n",
      "Index: []\n",
      "\n",
      "[0 rows x 31 columns]\n"
     ]
    }
   ],
   "source": [
    "# calculate duplicates\n",
    "duplicates = ml_dataset.duplicated()\n",
    "# report duplicates\n",
    "print(duplicates.any())\n",
    "# list duplicate rows\n",
    "print(ml_dataset[duplicates])"
   ]
  },
  {
   "cell_type": "markdown",
   "metadata": {},
   "source": [
    "*No Duplicate rows exist*"
   ]
  },
  {
   "cell_type": "markdown",
   "metadata": {},
   "source": [
    "## Check for Negative Values"
   ]
  },
  {
   "cell_type": "markdown",
   "metadata": {},
   "source": [
    "Negative values where they are not expected/possible would also affect the reliability of the analysis and should be removed prior to proceeding"
   ]
  },
  {
   "cell_type": "code",
   "execution_count": 18,
   "metadata": {},
   "outputs": [
    {
     "name": "stdout",
     "output_type": "stream",
     "text": [
      "Count of negative values in column  SettlementValue  is :  0\n",
      "Count of negative values in column  SpecialHealthExpenses  is :  0\n",
      "Count of negative values in column  SpecialOverage  is :  0\n",
      "Count of negative values in column  GeneralRest  is :  0\n",
      "Count of negative values in column  SpecialAdditionalInjury  is :  0\n",
      "Count of negative values in column  SpecialEarningsLoss  is :  0\n",
      "Count of negative values in column  SpecialUsageLoss  is :  0\n",
      "Count of negative values in column  SpecialAssetDamage  is :  0\n",
      "Count of negative values in column  SpecialFixes  is :  0\n",
      "Count of negative values in column  GeneralFixed  is :  0\n",
      "Count of negative values in column  GeneralUplift  is :  0\n",
      "Count of negative values in column  SpecialLoanerVehicle  is :  0\n",
      "Count of negative values in column  SpecialTripCosts  is :  0\n",
      "Count of negative values in column  SpecialJourneyExpenses  is :  0\n",
      "Count of negative values in column  SpecialTherapy  is :  0\n",
      "Count of negative values in column  Vehicle Age  is :  0\n",
      "Count of negative values in column  Number of Passengers  is :  0\n"
     ]
    }
   ],
   "source": [
    "# Check for negative values in all columns of Dataframe\n",
    "for column in ml_dataset.select_dtypes(include='float64'):\n",
    "    column = ml_dataset[column]\n",
    "    # Get the count of negatives in column\n",
    "    count = (column < 0).sum()\n",
    "    print('Count of negative values in column ', column.name, ' is : ', count)"
   ]
  },
  {
   "cell_type": "markdown",
   "metadata": {},
   "source": [
    "*No negative values exist*"
   ]
  },
  {
   "cell_type": "markdown",
   "metadata": {},
   "source": [
    "## Convert numerical values to integers\n",
    "Numerical columns are primarily money amounts so can be rounded to whole pounds - prediction amount does not require accuracy in pence\n",
    "\n",
    "It doesn't make sense to have number of passengers as float\n",
    "\n",
    "Age of car also does not need to be accurate to fractions of a year"
   ]
  },
  {
   "cell_type": "code",
   "execution_count": 21,
   "metadata": {},
   "outputs": [],
   "source": [
    "for column in ml_dataset.select_dtypes(include='float64'):\n",
    "    ml_dataset[column] = ml_dataset[column].round()\n",
    "    ml_dataset[column] = ml_dataset[column].astype('Int64')"
   ]
  },
  {
   "cell_type": "markdown",
   "metadata": {},
   "source": [
    "\n"
   ]
  },
  {
   "cell_type": "code",
   "execution_count": 22,
   "metadata": {},
   "outputs": [
    {
     "data": {
      "application/vnd.microsoft.datawrangler.viewer.v0+json": {
       "columns": [
        {
         "name": "index",
         "rawType": "int64",
         "type": "integer"
        },
        {
         "name": "SettlementValue",
         "rawType": "int64",
         "type": "integer"
        },
        {
         "name": "AccidentType",
         "rawType": "object",
         "type": "unknown"
        },
        {
         "name": "Injury_Prognosis",
         "rawType": "Int64",
         "type": "integer"
        },
        {
         "name": "SpecialHealthExpenses",
         "rawType": "Int64",
         "type": "integer"
        },
        {
         "name": "SpecialOverage",
         "rawType": "Int64",
         "type": "integer"
        },
        {
         "name": "GeneralRest",
         "rawType": "Int64",
         "type": "integer"
        },
        {
         "name": "SpecialAdditionalInjury",
         "rawType": "Int64",
         "type": "integer"
        },
        {
         "name": "SpecialEarningsLoss",
         "rawType": "Int64",
         "type": "integer"
        },
        {
         "name": "SpecialUsageLoss",
         "rawType": "Int64",
         "type": "integer"
        },
        {
         "name": "SpecialAssetDamage",
         "rawType": "Int64",
         "type": "integer"
        },
        {
         "name": "SpecialFixes",
         "rawType": "Int64",
         "type": "integer"
        },
        {
         "name": "GeneralFixed",
         "rawType": "Int64",
         "type": "integer"
        },
        {
         "name": "GeneralUplift",
         "rawType": "Int64",
         "type": "integer"
        },
        {
         "name": "SpecialLoanerVehicle",
         "rawType": "Int64",
         "type": "integer"
        },
        {
         "name": "SpecialTripCosts",
         "rawType": "Int64",
         "type": "integer"
        },
        {
         "name": "SpecialJourneyExpenses",
         "rawType": "Int64",
         "type": "integer"
        },
        {
         "name": "SpecialTherapy",
         "rawType": "Int64",
         "type": "integer"
        },
        {
         "name": "Exceptional_Circumstances",
         "rawType": "object",
         "type": "string"
        },
        {
         "name": "Minor_Psychological_Injury",
         "rawType": "object",
         "type": "string"
        },
        {
         "name": "Dominant injury",
         "rawType": "object",
         "type": "string"
        },
        {
         "name": "Whiplash",
         "rawType": "object",
         "type": "string"
        },
        {
         "name": "Vehicle Type",
         "rawType": "object",
         "type": "string"
        },
        {
         "name": "Weather Conditions",
         "rawType": "object",
         "type": "string"
        },
        {
         "name": "Accident Date",
         "rawType": "object",
         "type": "string"
        },
        {
         "name": "Claim Date",
         "rawType": "object",
         "type": "string"
        },
        {
         "name": "Vehicle Age",
         "rawType": "Int64",
         "type": "integer"
        },
        {
         "name": "Number of Passengers",
         "rawType": "Int64",
         "type": "integer"
        },
        {
         "name": "Accident Description",
         "rawType": "object",
         "type": "string"
        },
        {
         "name": "Injury Description",
         "rawType": "object",
         "type": "string"
        },
        {
         "name": "Police Report Filed",
         "rawType": "object",
         "type": "string"
        },
        {
         "name": "Witness Present",
         "rawType": "object",
         "type": "string"
        }
       ],
       "conversionMethod": "pd.DataFrame",
       "ref": "f03f7bf2-80b1-4951-8e35-2a7ff6637e61",
       "rows": [
        [
         "0",
         "520",
         "Rear end",
         "5",
         "0",
         "0",
         "0",
         "0",
         "0",
         "0",
         "0",
         "0",
         "520",
         "0",
         "0",
         "0",
         "0",
         "0",
         "No",
         "Yes",
         "Arms",
         "Yes",
         "Motorcycle",
         "Rainy",
         "2023-11-10 11:22:24.508901",
         "2024-06-11 11:22:24.508901",
         "13",
         "4",
         "Side collision at an intersection.",
         "Whiplash and minor bruises.",
         "Yes",
         "Yes"
        ],
        [
         "1",
         "870",
         "Rear end",
         "2",
         "0",
         "0",
         "520",
         "0",
         "0",
         "90",
         "0",
         "0",
         "260",
         "0",
         "0",
         "0",
         "0",
         "0",
         "No",
         "Yes",
         "Multiple",
         "Yes",
         "Motorcycle",
         "Snowy",
         "2023-06-25 00:55:01.140228",
         "2024-01-09 00:55:01.140228",
         "4",
         "2",
         "Side collision at an intersection.",
         "Minor cuts and scrapes.",
         "Yes",
         "Yes"
        ],
        [
         "2",
         "2140",
         "Other side pulled out of side road",
         "7",
         "0",
         "0",
         "1400",
         "0",
         "0",
         "0",
         "0",
         "0",
         "840",
         "0",
         "0",
         "0",
         "0",
         "0",
         "No",
         "No",
         "Legs",
         "Yes",
         "Motorcycle",
         "Sunny",
         "2020-02-23 17:43:47.805561",
         "2020-03-01 17:43:47.805561",
         "9",
         "4",
         "Lost control on a snowy road.",
         "Whiplash and minor bruises.",
         "Yes",
         "No"
        ],
        [
         "3",
         "520",
         "Rear end - Clt pushed into next vehicle",
         "4",
         "0",
         "0",
         "0",
         "0",
         "0",
         "0",
         "0",
         "0",
         "520",
         "0",
         "0",
         "0",
         "0",
         "0",
         "No",
         "Yes",
         "Arms",
         "Yes",
         "Truck",
         "Rainy",
         "2021-10-02 04:36:32.118423",
         "2021-10-13 04:36:32.118423",
         "5",
         "1",
         "Side collision at an intersection.",
         "Minor cuts and scrapes.",
         "Yes",
         "Yes"
        ],
        [
         "4",
         "260",
         "Rear end",
         "3",
         "0",
         "0",
         "0",
         "0",
         "0",
         "0",
         "0",
         "0",
         "260",
         "0",
         "0",
         "0",
         "0",
         "0",
         "No",
         "Yes",
         "Arms",
         "No",
         "Motorcycle",
         "Rainy",
         "2023-04-02 05:13:07.117423",
         "2023-04-14 05:13:07.117423",
         "9",
         "1",
         "Lost control on a snowy road.",
         "Concussion and bruised ribs.",
         "Yes",
         "Yes"
        ],
        [
         "5",
         "520",
         "Rear end",
         "6",
         "0",
         "0",
         "0",
         "0",
         "0",
         "0",
         "0",
         "0",
         "520",
         "0",
         "0",
         "0",
         "0",
         "0",
         "No",
         "Yes",
         "Multiple",
         "Yes",
         "Car",
         "Rainy",
         "2020-03-12 13:18:12.458491",
         "2020-06-30 13:18:12.458491",
         "10",
         "1",
         "Lost control on a snowy road.",
         "Minor cuts and scrapes.",
         "Yes",
         "No"
        ],
        [
         "6",
         "1015",
         "Rear end",
         null,
         "0",
         "0",
         "0",
         "0",
         "0",
         "0",
         "9",
         "0",
         "520",
         "0",
         "0",
         "31",
         null,
         "455",
         "No",
         "Yes",
         "Legs",
         "Yes",
         "Motorcycle",
         "Sunny",
         "2023-04-08 08:24:57.899579",
         "2023-08-19 08:24:57.899579",
         "5",
         "1",
         "Hit a deer on the highway.",
         "Whiplash and minor bruises.",
         "No",
         "No"
        ],
        [
         "7",
         "1032",
         "Other side pulled out of side road",
         "8",
         "0",
         "0",
         "0",
         "0",
         "0",
         "0",
         "0",
         "0",
         "840",
         "0",
         "0",
         "0",
         "0",
         "192",
         "No",
         "No",
         "Legs",
         "Yes",
         "Car",
         "Sunny",
         "2021-10-14 11:00:13.682736",
         "2022-02-19 11:00:13.682736",
         "9",
         "4",
         "Side collision at an intersection.",
         "Concussion and bruised ribs.",
         "No",
         "Yes"
        ],
        [
         "8",
         "808",
         "Rear end",
         "6",
         "0",
         "0",
         "0",
         "0",
         "0",
         "0",
         "0",
         "0",
         "520",
         "0",
         "0",
         "0",
         "65",
         "400",
         "No",
         "Yes",
         "Arms",
         "No",
         "Motorcycle",
         "Snowy",
         "2020-09-09 15:07:57.455491",
         "2021-02-04 15:07:57.455491",
         "13",
         "4",
         "Swerved to avoid another vehicle.",
         "Minor cuts and scrapes.",
         "Yes",
         "Yes"
        ],
        [
         "9",
         "500",
         "Rear end",
         "2",
         "0",
         "0",
         "0",
         "0",
         "0",
         "0",
         "0",
         "0",
         "260",
         "0",
         "0",
         "0",
         "0",
         "275",
         "No",
         "Yes",
         "Hips",
         "Yes",
         "Motorcycle",
         "Rainy",
         "2021-09-01 12:37:18.207641",
         "2021-10-25 12:37:18.207641",
         "19",
         "4",
         "Rear-ended at a stoplight.",
         "Minor cuts and scrapes.",
         "Yes",
         "Yes"
        ],
        [
         "10",
         "836",
         "Other side pulled on to roundabout",
         "6",
         "0",
         "0",
         "0",
         "0",
         null,
         "0",
         "0",
         "0",
         "520",
         "0",
         "0",
         "89",
         null,
         "400",
         "No",
         "Yes",
         "Arms",
         "Yes",
         "Car",
         "Sunny",
         "2020-06-24 05:38:28.061612",
         "2021-05-01 05:38:28.061612",
         null,
         "1",
         "Swerved to avoid another vehicle.",
         "Concussion and bruised ribs.",
         "No",
         "No"
        ],
        [
         "11",
         "644",
         "Rear end",
         "6",
         "0",
         "0",
         "0",
         "0",
         "0",
         "0",
         "0",
         "0",
         "495",
         "99",
         "0",
         "0",
         "0",
         "182",
         "Yes",
         "No",
         "Arms",
         "No",
         "Motorcycle",
         "Rainy",
         "2022-06-04 19:30:57.251450",
         "2022-08-22 19:30:57.251450",
         "6",
         "2",
         "Side collision at an intersection.",
         "Fractured arm and leg.",
         "Yes",
         "Yes"
        ],
        [
         "12",
         "1167",
         "Rear end",
         "7",
         "0",
         "0",
         "0",
         "0",
         "0",
         "0",
         "0",
         "0",
         "840",
         "168",
         "0",
         "0",
         "0",
         "592",
         "Yes",
         "No",
         "Arms",
         "No",
         "Motorcycle",
         "Rainy",
         "2021-08-23 11:19:48.957791",
         "2022-08-04 11:19:48.957791",
         "1",
         "3",
         "Swerved to avoid another vehicle.",
         "Whiplash and minor bruises.",
         "Yes",
         "No"
        ],
        [
         "13",
         "1144",
         "Rear end",
         "5",
         "0",
         "0",
         "1558",
         "0",
         "0",
         "0",
         "0",
         "0",
         "520",
         "0",
         "0",
         "0",
         "102",
         "474",
         "No",
         "Yes",
         "Arms",
         "Yes",
         "Motorcycle",
         "Snowy",
         "2021-09-14 09:02:07.465493",
         "2021-12-20 09:02:07.465493",
         "6",
         "3",
         "Side collision at an intersection.",
         "Fractured arm and leg.",
         "No",
         "No"
        ],
        [
         "14",
         "1665",
         "Rear end",
         "9",
         "0",
         "0",
         "770",
         "0",
         "0",
         "0",
         "0",
         "0",
         "895",
         "0",
         "0",
         "0",
         "0",
         "0",
         "No",
         "Yes",
         "Multiple",
         "Yes",
         "Truck",
         "Sunny",
         "2020-06-04 09:00:06.481296",
         "2021-02-08 09:00:06.481296",
         "16",
         "3",
         "Side collision at an intersection.",
         "Concussion and bruised ribs.",
         "No",
         "No"
        ],
        [
         "15",
         "1969",
         "Other side pulled out of side road",
         "9",
         "0",
         "0",
         "520",
         "0",
         "0",
         "0",
         "0",
         "0",
         "895",
         "0",
         "0",
         "29",
         "0",
         "525",
         "No",
         "Yes",
         "Legs",
         "Yes",
         "Car",
         "Sunny",
         "2021-08-19 09:11:55.103020",
         "2021-12-24 09:11:55.103020",
         "12",
         "2",
         "Swerved to avoid another vehicle.",
         "Concussion and bruised ribs.",
         "Yes",
         "Yes"
        ],
        [
         "16",
         "1425",
         "Rear end",
         "5",
         "0",
         "0",
         "1050",
         "0",
         "0",
         "0",
         "0",
         "0",
         "520",
         "0",
         "0",
         "0",
         "5",
         "0",
         "No",
         "Yes",
         "Multiple",
         "Yes",
         "Motorcycle",
         "Rainy",
         "2020-04-14 06:21:23.296659",
         "2020-05-14 06:21:23.296659",
         "8",
         "4",
         "Lost control on a snowy road.",
         "Sprained ankle and wrist.",
         "Yes",
         "No"
        ],
        [
         "17",
         "728",
         "Rear end",
         "5",
         "0",
         "0",
         "0",
         "0",
         "173",
         "0",
         "60",
         "0",
         "495",
         "0",
         "0",
         "0",
         "0",
         "0",
         "No",
         "No",
         "Multiple",
         "Yes",
         "Car",
         "Rainy",
         "2020-04-20 02:32:40.232046",
         "2020-05-14 02:32:40.232046",
         "12",
         "3",
         "Hit a deer on the highway.",
         "Sprained ankle and wrist.",
         "Yes",
         "No"
        ],
        [
         "18",
         "945",
         "Rear end",
         "7",
         "0",
         "0",
         "0",
         "0",
         "0",
         "0",
         "0",
         "0",
         "895",
         "0",
         "0",
         "0",
         "0",
         "50",
         "No",
         "Yes",
         "Multiple",
         "No",
         "Car",
         "Snowy",
         "2021-10-10 01:51:45.981196",
         "2022-04-29 01:51:45.981196",
         "14",
         "3",
         "Hit a deer on the highway.",
         "Concussion and bruised ribs.",
         "Yes",
         "No"
        ],
        [
         "19",
         "865",
         null,
         "4",
         "0",
         "0",
         "0",
         "0",
         "0",
         "0",
         "0",
         "0",
         null,
         null,
         "0",
         "0",
         "0",
         "370",
         "No",
         "No",
         "Arms",
         "No",
         "Car",
         "Snowy",
         "2023-08-03 18:11:44.300860",
         "2023-12-12 18:11:44.300860",
         null,
         "4",
         "Hit a deer on the highway.",
         "Sprained ankle and wrist.",
         "Yes",
         "Yes"
        ]
       ],
       "shape": {
        "columns": 31,
        "rows": 20
       }
      },
      "text/html": [
       "<div>\n",
       "<style scoped>\n",
       "    .dataframe tbody tr th:only-of-type {\n",
       "        vertical-align: middle;\n",
       "    }\n",
       "\n",
       "    .dataframe tbody tr th {\n",
       "        vertical-align: top;\n",
       "    }\n",
       "\n",
       "    .dataframe thead th {\n",
       "        text-align: right;\n",
       "    }\n",
       "</style>\n",
       "<table border=\"1\" class=\"dataframe\">\n",
       "  <thead>\n",
       "    <tr style=\"text-align: right;\">\n",
       "      <th></th>\n",
       "      <th>SettlementValue</th>\n",
       "      <th>AccidentType</th>\n",
       "      <th>Injury_Prognosis</th>\n",
       "      <th>SpecialHealthExpenses</th>\n",
       "      <th>SpecialOverage</th>\n",
       "      <th>GeneralRest</th>\n",
       "      <th>SpecialAdditionalInjury</th>\n",
       "      <th>SpecialEarningsLoss</th>\n",
       "      <th>SpecialUsageLoss</th>\n",
       "      <th>SpecialAssetDamage</th>\n",
       "      <th>...</th>\n",
       "      <th>Vehicle Type</th>\n",
       "      <th>Weather Conditions</th>\n",
       "      <th>Accident Date</th>\n",
       "      <th>Claim Date</th>\n",
       "      <th>Vehicle Age</th>\n",
       "      <th>Number of Passengers</th>\n",
       "      <th>Accident Description</th>\n",
       "      <th>Injury Description</th>\n",
       "      <th>Police Report Filed</th>\n",
       "      <th>Witness Present</th>\n",
       "    </tr>\n",
       "  </thead>\n",
       "  <tbody>\n",
       "    <tr>\n",
       "      <th>0</th>\n",
       "      <td>520</td>\n",
       "      <td>Rear end</td>\n",
       "      <td>5</td>\n",
       "      <td>0</td>\n",
       "      <td>0</td>\n",
       "      <td>0</td>\n",
       "      <td>0</td>\n",
       "      <td>0</td>\n",
       "      <td>0</td>\n",
       "      <td>0</td>\n",
       "      <td>...</td>\n",
       "      <td>Motorcycle</td>\n",
       "      <td>Rainy</td>\n",
       "      <td>2023-11-10 11:22:24.508901</td>\n",
       "      <td>2024-06-11 11:22:24.508901</td>\n",
       "      <td>13</td>\n",
       "      <td>4</td>\n",
       "      <td>Side collision at an intersection.</td>\n",
       "      <td>Whiplash and minor bruises.</td>\n",
       "      <td>Yes</td>\n",
       "      <td>Yes</td>\n",
       "    </tr>\n",
       "    <tr>\n",
       "      <th>1</th>\n",
       "      <td>870</td>\n",
       "      <td>Rear end</td>\n",
       "      <td>2</td>\n",
       "      <td>0</td>\n",
       "      <td>0</td>\n",
       "      <td>520</td>\n",
       "      <td>0</td>\n",
       "      <td>0</td>\n",
       "      <td>90</td>\n",
       "      <td>0</td>\n",
       "      <td>...</td>\n",
       "      <td>Motorcycle</td>\n",
       "      <td>Snowy</td>\n",
       "      <td>2023-06-25 00:55:01.140228</td>\n",
       "      <td>2024-01-09 00:55:01.140228</td>\n",
       "      <td>4</td>\n",
       "      <td>2</td>\n",
       "      <td>Side collision at an intersection.</td>\n",
       "      <td>Minor cuts and scrapes.</td>\n",
       "      <td>Yes</td>\n",
       "      <td>Yes</td>\n",
       "    </tr>\n",
       "    <tr>\n",
       "      <th>2</th>\n",
       "      <td>2140</td>\n",
       "      <td>Other side pulled out of side road</td>\n",
       "      <td>7</td>\n",
       "      <td>0</td>\n",
       "      <td>0</td>\n",
       "      <td>1400</td>\n",
       "      <td>0</td>\n",
       "      <td>0</td>\n",
       "      <td>0</td>\n",
       "      <td>0</td>\n",
       "      <td>...</td>\n",
       "      <td>Motorcycle</td>\n",
       "      <td>Sunny</td>\n",
       "      <td>2020-02-23 17:43:47.805561</td>\n",
       "      <td>2020-03-01 17:43:47.805561</td>\n",
       "      <td>9</td>\n",
       "      <td>4</td>\n",
       "      <td>Lost control on a snowy road.</td>\n",
       "      <td>Whiplash and minor bruises.</td>\n",
       "      <td>Yes</td>\n",
       "      <td>No</td>\n",
       "    </tr>\n",
       "    <tr>\n",
       "      <th>3</th>\n",
       "      <td>520</td>\n",
       "      <td>Rear end - Clt pushed into next vehicle</td>\n",
       "      <td>4</td>\n",
       "      <td>0</td>\n",
       "      <td>0</td>\n",
       "      <td>0</td>\n",
       "      <td>0</td>\n",
       "      <td>0</td>\n",
       "      <td>0</td>\n",
       "      <td>0</td>\n",
       "      <td>...</td>\n",
       "      <td>Truck</td>\n",
       "      <td>Rainy</td>\n",
       "      <td>2021-10-02 04:36:32.118423</td>\n",
       "      <td>2021-10-13 04:36:32.118423</td>\n",
       "      <td>5</td>\n",
       "      <td>1</td>\n",
       "      <td>Side collision at an intersection.</td>\n",
       "      <td>Minor cuts and scrapes.</td>\n",
       "      <td>Yes</td>\n",
       "      <td>Yes</td>\n",
       "    </tr>\n",
       "    <tr>\n",
       "      <th>4</th>\n",
       "      <td>260</td>\n",
       "      <td>Rear end</td>\n",
       "      <td>3</td>\n",
       "      <td>0</td>\n",
       "      <td>0</td>\n",
       "      <td>0</td>\n",
       "      <td>0</td>\n",
       "      <td>0</td>\n",
       "      <td>0</td>\n",
       "      <td>0</td>\n",
       "      <td>...</td>\n",
       "      <td>Motorcycle</td>\n",
       "      <td>Rainy</td>\n",
       "      <td>2023-04-02 05:13:07.117423</td>\n",
       "      <td>2023-04-14 05:13:07.117423</td>\n",
       "      <td>9</td>\n",
       "      <td>1</td>\n",
       "      <td>Lost control on a snowy road.</td>\n",
       "      <td>Concussion and bruised ribs.</td>\n",
       "      <td>Yes</td>\n",
       "      <td>Yes</td>\n",
       "    </tr>\n",
       "    <tr>\n",
       "      <th>5</th>\n",
       "      <td>520</td>\n",
       "      <td>Rear end</td>\n",
       "      <td>6</td>\n",
       "      <td>0</td>\n",
       "      <td>0</td>\n",
       "      <td>0</td>\n",
       "      <td>0</td>\n",
       "      <td>0</td>\n",
       "      <td>0</td>\n",
       "      <td>0</td>\n",
       "      <td>...</td>\n",
       "      <td>Car</td>\n",
       "      <td>Rainy</td>\n",
       "      <td>2020-03-12 13:18:12.458491</td>\n",
       "      <td>2020-06-30 13:18:12.458491</td>\n",
       "      <td>10</td>\n",
       "      <td>1</td>\n",
       "      <td>Lost control on a snowy road.</td>\n",
       "      <td>Minor cuts and scrapes.</td>\n",
       "      <td>Yes</td>\n",
       "      <td>No</td>\n",
       "    </tr>\n",
       "    <tr>\n",
       "      <th>6</th>\n",
       "      <td>1015</td>\n",
       "      <td>Rear end</td>\n",
       "      <td>&lt;NA&gt;</td>\n",
       "      <td>0</td>\n",
       "      <td>0</td>\n",
       "      <td>0</td>\n",
       "      <td>0</td>\n",
       "      <td>0</td>\n",
       "      <td>0</td>\n",
       "      <td>9</td>\n",
       "      <td>...</td>\n",
       "      <td>Motorcycle</td>\n",
       "      <td>Sunny</td>\n",
       "      <td>2023-04-08 08:24:57.899579</td>\n",
       "      <td>2023-08-19 08:24:57.899579</td>\n",
       "      <td>5</td>\n",
       "      <td>1</td>\n",
       "      <td>Hit a deer on the highway.</td>\n",
       "      <td>Whiplash and minor bruises.</td>\n",
       "      <td>No</td>\n",
       "      <td>No</td>\n",
       "    </tr>\n",
       "    <tr>\n",
       "      <th>7</th>\n",
       "      <td>1032</td>\n",
       "      <td>Other side pulled out of side road</td>\n",
       "      <td>8</td>\n",
       "      <td>0</td>\n",
       "      <td>0</td>\n",
       "      <td>0</td>\n",
       "      <td>0</td>\n",
       "      <td>0</td>\n",
       "      <td>0</td>\n",
       "      <td>0</td>\n",
       "      <td>...</td>\n",
       "      <td>Car</td>\n",
       "      <td>Sunny</td>\n",
       "      <td>2021-10-14 11:00:13.682736</td>\n",
       "      <td>2022-02-19 11:00:13.682736</td>\n",
       "      <td>9</td>\n",
       "      <td>4</td>\n",
       "      <td>Side collision at an intersection.</td>\n",
       "      <td>Concussion and bruised ribs.</td>\n",
       "      <td>No</td>\n",
       "      <td>Yes</td>\n",
       "    </tr>\n",
       "    <tr>\n",
       "      <th>8</th>\n",
       "      <td>808</td>\n",
       "      <td>Rear end</td>\n",
       "      <td>6</td>\n",
       "      <td>0</td>\n",
       "      <td>0</td>\n",
       "      <td>0</td>\n",
       "      <td>0</td>\n",
       "      <td>0</td>\n",
       "      <td>0</td>\n",
       "      <td>0</td>\n",
       "      <td>...</td>\n",
       "      <td>Motorcycle</td>\n",
       "      <td>Snowy</td>\n",
       "      <td>2020-09-09 15:07:57.455491</td>\n",
       "      <td>2021-02-04 15:07:57.455491</td>\n",
       "      <td>13</td>\n",
       "      <td>4</td>\n",
       "      <td>Swerved to avoid another vehicle.</td>\n",
       "      <td>Minor cuts and scrapes.</td>\n",
       "      <td>Yes</td>\n",
       "      <td>Yes</td>\n",
       "    </tr>\n",
       "    <tr>\n",
       "      <th>9</th>\n",
       "      <td>500</td>\n",
       "      <td>Rear end</td>\n",
       "      <td>2</td>\n",
       "      <td>0</td>\n",
       "      <td>0</td>\n",
       "      <td>0</td>\n",
       "      <td>0</td>\n",
       "      <td>0</td>\n",
       "      <td>0</td>\n",
       "      <td>0</td>\n",
       "      <td>...</td>\n",
       "      <td>Motorcycle</td>\n",
       "      <td>Rainy</td>\n",
       "      <td>2021-09-01 12:37:18.207641</td>\n",
       "      <td>2021-10-25 12:37:18.207641</td>\n",
       "      <td>19</td>\n",
       "      <td>4</td>\n",
       "      <td>Rear-ended at a stoplight.</td>\n",
       "      <td>Minor cuts and scrapes.</td>\n",
       "      <td>Yes</td>\n",
       "      <td>Yes</td>\n",
       "    </tr>\n",
       "    <tr>\n",
       "      <th>10</th>\n",
       "      <td>836</td>\n",
       "      <td>Other side pulled on to roundabout</td>\n",
       "      <td>6</td>\n",
       "      <td>0</td>\n",
       "      <td>0</td>\n",
       "      <td>0</td>\n",
       "      <td>0</td>\n",
       "      <td>&lt;NA&gt;</td>\n",
       "      <td>0</td>\n",
       "      <td>0</td>\n",
       "      <td>...</td>\n",
       "      <td>Car</td>\n",
       "      <td>Sunny</td>\n",
       "      <td>2020-06-24 05:38:28.061612</td>\n",
       "      <td>2021-05-01 05:38:28.061612</td>\n",
       "      <td>&lt;NA&gt;</td>\n",
       "      <td>1</td>\n",
       "      <td>Swerved to avoid another vehicle.</td>\n",
       "      <td>Concussion and bruised ribs.</td>\n",
       "      <td>No</td>\n",
       "      <td>No</td>\n",
       "    </tr>\n",
       "    <tr>\n",
       "      <th>11</th>\n",
       "      <td>644</td>\n",
       "      <td>Rear end</td>\n",
       "      <td>6</td>\n",
       "      <td>0</td>\n",
       "      <td>0</td>\n",
       "      <td>0</td>\n",
       "      <td>0</td>\n",
       "      <td>0</td>\n",
       "      <td>0</td>\n",
       "      <td>0</td>\n",
       "      <td>...</td>\n",
       "      <td>Motorcycle</td>\n",
       "      <td>Rainy</td>\n",
       "      <td>2022-06-04 19:30:57.251450</td>\n",
       "      <td>2022-08-22 19:30:57.251450</td>\n",
       "      <td>6</td>\n",
       "      <td>2</td>\n",
       "      <td>Side collision at an intersection.</td>\n",
       "      <td>Fractured arm and leg.</td>\n",
       "      <td>Yes</td>\n",
       "      <td>Yes</td>\n",
       "    </tr>\n",
       "    <tr>\n",
       "      <th>12</th>\n",
       "      <td>1167</td>\n",
       "      <td>Rear end</td>\n",
       "      <td>7</td>\n",
       "      <td>0</td>\n",
       "      <td>0</td>\n",
       "      <td>0</td>\n",
       "      <td>0</td>\n",
       "      <td>0</td>\n",
       "      <td>0</td>\n",
       "      <td>0</td>\n",
       "      <td>...</td>\n",
       "      <td>Motorcycle</td>\n",
       "      <td>Rainy</td>\n",
       "      <td>2021-08-23 11:19:48.957791</td>\n",
       "      <td>2022-08-04 11:19:48.957791</td>\n",
       "      <td>1</td>\n",
       "      <td>3</td>\n",
       "      <td>Swerved to avoid another vehicle.</td>\n",
       "      <td>Whiplash and minor bruises.</td>\n",
       "      <td>Yes</td>\n",
       "      <td>No</td>\n",
       "    </tr>\n",
       "    <tr>\n",
       "      <th>13</th>\n",
       "      <td>1144</td>\n",
       "      <td>Rear end</td>\n",
       "      <td>5</td>\n",
       "      <td>0</td>\n",
       "      <td>0</td>\n",
       "      <td>1558</td>\n",
       "      <td>0</td>\n",
       "      <td>0</td>\n",
       "      <td>0</td>\n",
       "      <td>0</td>\n",
       "      <td>...</td>\n",
       "      <td>Motorcycle</td>\n",
       "      <td>Snowy</td>\n",
       "      <td>2021-09-14 09:02:07.465493</td>\n",
       "      <td>2021-12-20 09:02:07.465493</td>\n",
       "      <td>6</td>\n",
       "      <td>3</td>\n",
       "      <td>Side collision at an intersection.</td>\n",
       "      <td>Fractured arm and leg.</td>\n",
       "      <td>No</td>\n",
       "      <td>No</td>\n",
       "    </tr>\n",
       "    <tr>\n",
       "      <th>14</th>\n",
       "      <td>1665</td>\n",
       "      <td>Rear end</td>\n",
       "      <td>9</td>\n",
       "      <td>0</td>\n",
       "      <td>0</td>\n",
       "      <td>770</td>\n",
       "      <td>0</td>\n",
       "      <td>0</td>\n",
       "      <td>0</td>\n",
       "      <td>0</td>\n",
       "      <td>...</td>\n",
       "      <td>Truck</td>\n",
       "      <td>Sunny</td>\n",
       "      <td>2020-06-04 09:00:06.481296</td>\n",
       "      <td>2021-02-08 09:00:06.481296</td>\n",
       "      <td>16</td>\n",
       "      <td>3</td>\n",
       "      <td>Side collision at an intersection.</td>\n",
       "      <td>Concussion and bruised ribs.</td>\n",
       "      <td>No</td>\n",
       "      <td>No</td>\n",
       "    </tr>\n",
       "    <tr>\n",
       "      <th>15</th>\n",
       "      <td>1969</td>\n",
       "      <td>Other side pulled out of side road</td>\n",
       "      <td>9</td>\n",
       "      <td>0</td>\n",
       "      <td>0</td>\n",
       "      <td>520</td>\n",
       "      <td>0</td>\n",
       "      <td>0</td>\n",
       "      <td>0</td>\n",
       "      <td>0</td>\n",
       "      <td>...</td>\n",
       "      <td>Car</td>\n",
       "      <td>Sunny</td>\n",
       "      <td>2021-08-19 09:11:55.103020</td>\n",
       "      <td>2021-12-24 09:11:55.103020</td>\n",
       "      <td>12</td>\n",
       "      <td>2</td>\n",
       "      <td>Swerved to avoid another vehicle.</td>\n",
       "      <td>Concussion and bruised ribs.</td>\n",
       "      <td>Yes</td>\n",
       "      <td>Yes</td>\n",
       "    </tr>\n",
       "    <tr>\n",
       "      <th>16</th>\n",
       "      <td>1425</td>\n",
       "      <td>Rear end</td>\n",
       "      <td>5</td>\n",
       "      <td>0</td>\n",
       "      <td>0</td>\n",
       "      <td>1050</td>\n",
       "      <td>0</td>\n",
       "      <td>0</td>\n",
       "      <td>0</td>\n",
       "      <td>0</td>\n",
       "      <td>...</td>\n",
       "      <td>Motorcycle</td>\n",
       "      <td>Rainy</td>\n",
       "      <td>2020-04-14 06:21:23.296659</td>\n",
       "      <td>2020-05-14 06:21:23.296659</td>\n",
       "      <td>8</td>\n",
       "      <td>4</td>\n",
       "      <td>Lost control on a snowy road.</td>\n",
       "      <td>Sprained ankle and wrist.</td>\n",
       "      <td>Yes</td>\n",
       "      <td>No</td>\n",
       "    </tr>\n",
       "    <tr>\n",
       "      <th>17</th>\n",
       "      <td>728</td>\n",
       "      <td>Rear end</td>\n",
       "      <td>5</td>\n",
       "      <td>0</td>\n",
       "      <td>0</td>\n",
       "      <td>0</td>\n",
       "      <td>0</td>\n",
       "      <td>173</td>\n",
       "      <td>0</td>\n",
       "      <td>60</td>\n",
       "      <td>...</td>\n",
       "      <td>Car</td>\n",
       "      <td>Rainy</td>\n",
       "      <td>2020-04-20 02:32:40.232046</td>\n",
       "      <td>2020-05-14 02:32:40.232046</td>\n",
       "      <td>12</td>\n",
       "      <td>3</td>\n",
       "      <td>Hit a deer on the highway.</td>\n",
       "      <td>Sprained ankle and wrist.</td>\n",
       "      <td>Yes</td>\n",
       "      <td>No</td>\n",
       "    </tr>\n",
       "    <tr>\n",
       "      <th>18</th>\n",
       "      <td>945</td>\n",
       "      <td>Rear end</td>\n",
       "      <td>7</td>\n",
       "      <td>0</td>\n",
       "      <td>0</td>\n",
       "      <td>0</td>\n",
       "      <td>0</td>\n",
       "      <td>0</td>\n",
       "      <td>0</td>\n",
       "      <td>0</td>\n",
       "      <td>...</td>\n",
       "      <td>Car</td>\n",
       "      <td>Snowy</td>\n",
       "      <td>2021-10-10 01:51:45.981196</td>\n",
       "      <td>2022-04-29 01:51:45.981196</td>\n",
       "      <td>14</td>\n",
       "      <td>3</td>\n",
       "      <td>Hit a deer on the highway.</td>\n",
       "      <td>Concussion and bruised ribs.</td>\n",
       "      <td>Yes</td>\n",
       "      <td>No</td>\n",
       "    </tr>\n",
       "    <tr>\n",
       "      <th>19</th>\n",
       "      <td>865</td>\n",
       "      <td>NaN</td>\n",
       "      <td>4</td>\n",
       "      <td>0</td>\n",
       "      <td>0</td>\n",
       "      <td>0</td>\n",
       "      <td>0</td>\n",
       "      <td>0</td>\n",
       "      <td>0</td>\n",
       "      <td>0</td>\n",
       "      <td>...</td>\n",
       "      <td>Car</td>\n",
       "      <td>Snowy</td>\n",
       "      <td>2023-08-03 18:11:44.300860</td>\n",
       "      <td>2023-12-12 18:11:44.300860</td>\n",
       "      <td>&lt;NA&gt;</td>\n",
       "      <td>4</td>\n",
       "      <td>Hit a deer on the highway.</td>\n",
       "      <td>Sprained ankle and wrist.</td>\n",
       "      <td>Yes</td>\n",
       "      <td>Yes</td>\n",
       "    </tr>\n",
       "  </tbody>\n",
       "</table>\n",
       "<p>20 rows × 31 columns</p>\n",
       "</div>"
      ],
      "text/plain": [
       "    SettlementValue                             AccidentType  \\\n",
       "0               520                                 Rear end   \n",
       "1               870                                 Rear end   \n",
       "2              2140       Other side pulled out of side road   \n",
       "3               520  Rear end - Clt pushed into next vehicle   \n",
       "4               260                                 Rear end   \n",
       "5               520                                 Rear end   \n",
       "6              1015                                 Rear end   \n",
       "7              1032       Other side pulled out of side road   \n",
       "8               808                                 Rear end   \n",
       "9               500                                 Rear end   \n",
       "10              836       Other side pulled on to roundabout   \n",
       "11              644                                 Rear end   \n",
       "12             1167                                 Rear end   \n",
       "13             1144                                 Rear end   \n",
       "14             1665                                 Rear end   \n",
       "15             1969       Other side pulled out of side road   \n",
       "16             1425                                 Rear end   \n",
       "17              728                                 Rear end   \n",
       "18              945                                 Rear end   \n",
       "19              865                                      NaN   \n",
       "\n",
       "    Injury_Prognosis  SpecialHealthExpenses  SpecialOverage  GeneralRest  \\\n",
       "0                  5                      0               0            0   \n",
       "1                  2                      0               0          520   \n",
       "2                  7                      0               0         1400   \n",
       "3                  4                      0               0            0   \n",
       "4                  3                      0               0            0   \n",
       "5                  6                      0               0            0   \n",
       "6               <NA>                      0               0            0   \n",
       "7                  8                      0               0            0   \n",
       "8                  6                      0               0            0   \n",
       "9                  2                      0               0            0   \n",
       "10                 6                      0               0            0   \n",
       "11                 6                      0               0            0   \n",
       "12                 7                      0               0            0   \n",
       "13                 5                      0               0         1558   \n",
       "14                 9                      0               0          770   \n",
       "15                 9                      0               0          520   \n",
       "16                 5                      0               0         1050   \n",
       "17                 5                      0               0            0   \n",
       "18                 7                      0               0            0   \n",
       "19                 4                      0               0            0   \n",
       "\n",
       "    SpecialAdditionalInjury  SpecialEarningsLoss  SpecialUsageLoss  \\\n",
       "0                         0                    0                 0   \n",
       "1                         0                    0                90   \n",
       "2                         0                    0                 0   \n",
       "3                         0                    0                 0   \n",
       "4                         0                    0                 0   \n",
       "5                         0                    0                 0   \n",
       "6                         0                    0                 0   \n",
       "7                         0                    0                 0   \n",
       "8                         0                    0                 0   \n",
       "9                         0                    0                 0   \n",
       "10                        0                 <NA>                 0   \n",
       "11                        0                    0                 0   \n",
       "12                        0                    0                 0   \n",
       "13                        0                    0                 0   \n",
       "14                        0                    0                 0   \n",
       "15                        0                    0                 0   \n",
       "16                        0                    0                 0   \n",
       "17                        0                  173                 0   \n",
       "18                        0                    0                 0   \n",
       "19                        0                    0                 0   \n",
       "\n",
       "    SpecialAssetDamage  ...  Vehicle Type  Weather Conditions  \\\n",
       "0                    0  ...    Motorcycle               Rainy   \n",
       "1                    0  ...    Motorcycle               Snowy   \n",
       "2                    0  ...    Motorcycle               Sunny   \n",
       "3                    0  ...         Truck               Rainy   \n",
       "4                    0  ...    Motorcycle               Rainy   \n",
       "5                    0  ...           Car               Rainy   \n",
       "6                    9  ...    Motorcycle               Sunny   \n",
       "7                    0  ...           Car               Sunny   \n",
       "8                    0  ...    Motorcycle               Snowy   \n",
       "9                    0  ...    Motorcycle               Rainy   \n",
       "10                   0  ...           Car               Sunny   \n",
       "11                   0  ...    Motorcycle               Rainy   \n",
       "12                   0  ...    Motorcycle               Rainy   \n",
       "13                   0  ...    Motorcycle               Snowy   \n",
       "14                   0  ...         Truck               Sunny   \n",
       "15                   0  ...           Car               Sunny   \n",
       "16                   0  ...    Motorcycle               Rainy   \n",
       "17                  60  ...           Car               Rainy   \n",
       "18                   0  ...           Car               Snowy   \n",
       "19                   0  ...           Car               Snowy   \n",
       "\n",
       "                 Accident Date                  Claim Date  Vehicle Age  \\\n",
       "0   2023-11-10 11:22:24.508901  2024-06-11 11:22:24.508901           13   \n",
       "1   2023-06-25 00:55:01.140228  2024-01-09 00:55:01.140228            4   \n",
       "2   2020-02-23 17:43:47.805561  2020-03-01 17:43:47.805561            9   \n",
       "3   2021-10-02 04:36:32.118423  2021-10-13 04:36:32.118423            5   \n",
       "4   2023-04-02 05:13:07.117423  2023-04-14 05:13:07.117423            9   \n",
       "5   2020-03-12 13:18:12.458491  2020-06-30 13:18:12.458491           10   \n",
       "6   2023-04-08 08:24:57.899579  2023-08-19 08:24:57.899579            5   \n",
       "7   2021-10-14 11:00:13.682736  2022-02-19 11:00:13.682736            9   \n",
       "8   2020-09-09 15:07:57.455491  2021-02-04 15:07:57.455491           13   \n",
       "9   2021-09-01 12:37:18.207641  2021-10-25 12:37:18.207641           19   \n",
       "10  2020-06-24 05:38:28.061612  2021-05-01 05:38:28.061612         <NA>   \n",
       "11  2022-06-04 19:30:57.251450  2022-08-22 19:30:57.251450            6   \n",
       "12  2021-08-23 11:19:48.957791  2022-08-04 11:19:48.957791            1   \n",
       "13  2021-09-14 09:02:07.465493  2021-12-20 09:02:07.465493            6   \n",
       "14  2020-06-04 09:00:06.481296  2021-02-08 09:00:06.481296           16   \n",
       "15  2021-08-19 09:11:55.103020  2021-12-24 09:11:55.103020           12   \n",
       "16  2020-04-14 06:21:23.296659  2020-05-14 06:21:23.296659            8   \n",
       "17  2020-04-20 02:32:40.232046  2020-05-14 02:32:40.232046           12   \n",
       "18  2021-10-10 01:51:45.981196  2022-04-29 01:51:45.981196           14   \n",
       "19  2023-08-03 18:11:44.300860  2023-12-12 18:11:44.300860         <NA>   \n",
       "\n",
       "    Number of Passengers                Accident Description  \\\n",
       "0                      4  Side collision at an intersection.   \n",
       "1                      2  Side collision at an intersection.   \n",
       "2                      4       Lost control on a snowy road.   \n",
       "3                      1  Side collision at an intersection.   \n",
       "4                      1       Lost control on a snowy road.   \n",
       "5                      1       Lost control on a snowy road.   \n",
       "6                      1          Hit a deer on the highway.   \n",
       "7                      4  Side collision at an intersection.   \n",
       "8                      4   Swerved to avoid another vehicle.   \n",
       "9                      4          Rear-ended at a stoplight.   \n",
       "10                     1   Swerved to avoid another vehicle.   \n",
       "11                     2  Side collision at an intersection.   \n",
       "12                     3   Swerved to avoid another vehicle.   \n",
       "13                     3  Side collision at an intersection.   \n",
       "14                     3  Side collision at an intersection.   \n",
       "15                     2   Swerved to avoid another vehicle.   \n",
       "16                     4       Lost control on a snowy road.   \n",
       "17                     3          Hit a deer on the highway.   \n",
       "18                     3          Hit a deer on the highway.   \n",
       "19                     4          Hit a deer on the highway.   \n",
       "\n",
       "              Injury Description Police Report Filed Witness Present  \n",
       "0    Whiplash and minor bruises.                 Yes             Yes  \n",
       "1        Minor cuts and scrapes.                 Yes             Yes  \n",
       "2    Whiplash and minor bruises.                 Yes              No  \n",
       "3        Minor cuts and scrapes.                 Yes             Yes  \n",
       "4   Concussion and bruised ribs.                 Yes             Yes  \n",
       "5        Minor cuts and scrapes.                 Yes              No  \n",
       "6    Whiplash and minor bruises.                  No              No  \n",
       "7   Concussion and bruised ribs.                  No             Yes  \n",
       "8        Minor cuts and scrapes.                 Yes             Yes  \n",
       "9        Minor cuts and scrapes.                 Yes             Yes  \n",
       "10  Concussion and bruised ribs.                  No              No  \n",
       "11        Fractured arm and leg.                 Yes             Yes  \n",
       "12   Whiplash and minor bruises.                 Yes              No  \n",
       "13        Fractured arm and leg.                  No              No  \n",
       "14  Concussion and bruised ribs.                  No              No  \n",
       "15  Concussion and bruised ribs.                 Yes             Yes  \n",
       "16     Sprained ankle and wrist.                 Yes              No  \n",
       "17     Sprained ankle and wrist.                 Yes              No  \n",
       "18  Concussion and bruised ribs.                 Yes              No  \n",
       "19     Sprained ankle and wrist.                 Yes             Yes  \n",
       "\n",
       "[20 rows x 31 columns]"
      ]
     },
     "execution_count": 22,
     "metadata": {},
     "output_type": "execute_result"
    }
   ],
   "source": [
    "ml_dataset.head(20)"
   ]
  },
  {
   "cell_type": "markdown",
   "metadata": {
    "id": "BtuGcuJ2FI3Y",
    "tags": []
   },
   "source": [
    "## Display Null Value Counts"
   ]
  },
  {
   "cell_type": "markdown",
   "metadata": {
    "id": "PK9c2WSBFI3Y",
    "tags": []
   },
   "source": [
    "Null values indicate missing data and impact a feature column's usefulness in the training process"
   ]
  },
  {
   "cell_type": "code",
   "execution_count": 23,
   "metadata": {
    "id": "vhG8eaOiFI3Y",
    "tags": []
   },
   "outputs": [
    {
     "data": {
      "text/plain": [
       "SettlementValue                 0\n",
       "AccidentType                  111\n",
       "Injury_Prognosis              146\n",
       "SpecialHealthExpenses         117\n",
       "SpecialOverage                109\n",
       "GeneralRest                   119\n",
       "SpecialAdditionalInjury       126\n",
       "SpecialEarningsLoss           114\n",
       "SpecialUsageLoss              121\n",
       "SpecialAssetDamage            102\n",
       "SpecialFixes                  112\n",
       "GeneralFixed                  114\n",
       "GeneralUplift                 126\n",
       "SpecialLoanerVehicle          130\n",
       "SpecialTripCosts              108\n",
       "SpecialJourneyExpenses        136\n",
       "SpecialTherapy                126\n",
       "Exceptional_Circumstances      97\n",
       "Minor_Psychological_Injury    107\n",
       "Dominant injury               103\n",
       "Whiplash                      123\n",
       "Vehicle Type                  122\n",
       "Weather Conditions            110\n",
       "Accident Date                 131\n",
       "Claim Date                    104\n",
       "Vehicle Age                   118\n",
       "Number of Passengers          115\n",
       "Accident Description          111\n",
       "Injury Description            109\n",
       "Police Report Filed             0\n",
       "Witness Present                 0\n",
       "dtype: int64"
      ]
     },
     "execution_count": 23,
     "metadata": {},
     "output_type": "execute_result"
    }
   ],
   "source": [
    "# find nulls\n",
    "ml_dataset.isnull().sum()"
   ]
  },
  {
   "cell_type": "markdown",
   "metadata": {},
   "source": [
    "There are significant numbers of null values across the dataset, and most likely removing all of them would drastically reduce the number of rows, negatively impact model training. An approach is needed to identify which feature columns are correlated with the settlement value before determining how to proceed with NaN values in any column."
   ]
  },
  {
   "cell_type": "markdown",
   "metadata": {},
   "source": [
    "## Visualise correlations"
   ]
  },
  {
   "cell_type": "code",
   "execution_count": 24,
   "metadata": {},
   "outputs": [],
   "source": [
    "def check_correlation(df, target_col, feature_col):\n",
    "    temp_df = df[[target_col, feature_col]]\n",
    "    temp_df = temp_df.dropna()\n",
    "    correlation = temp_df[target_col].corr(df[feature_col])\n",
    "    print(f'Correlation between {target_col} and {feature_col}: {correlation}')"
   ]
  },
  {
   "cell_type": "code",
   "execution_count": 30,
   "metadata": {},
   "outputs": [
    {
     "data": {
      "application/vnd.microsoft.datawrangler.viewer.v0+json": {
       "columns": [
        {
         "name": "index",
         "rawType": "object",
         "type": "string"
        },
        {
         "name": "SettlementValue",
         "rawType": "float64",
         "type": "float"
        },
        {
         "name": "Injury_Prognosis",
         "rawType": "Float64",
         "type": "float"
        },
        {
         "name": "SpecialHealthExpenses",
         "rawType": "Float64",
         "type": "float"
        },
        {
         "name": "SpecialOverage",
         "rawType": "Float64",
         "type": "float"
        },
        {
         "name": "GeneralRest",
         "rawType": "Float64",
         "type": "float"
        },
        {
         "name": "SpecialAdditionalInjury",
         "rawType": "Float64",
         "type": "float"
        },
        {
         "name": "SpecialEarningsLoss",
         "rawType": "Float64",
         "type": "float"
        },
        {
         "name": "SpecialUsageLoss",
         "rawType": "Float64",
         "type": "float"
        },
        {
         "name": "SpecialAssetDamage",
         "rawType": "Float64",
         "type": "float"
        },
        {
         "name": "SpecialFixes",
         "rawType": "Float64",
         "type": "float"
        },
        {
         "name": "GeneralFixed",
         "rawType": "Float64",
         "type": "float"
        },
        {
         "name": "GeneralUplift",
         "rawType": "Float64",
         "type": "float"
        },
        {
         "name": "SpecialLoanerVehicle",
         "rawType": "Float64",
         "type": "float"
        },
        {
         "name": "SpecialTripCosts",
         "rawType": "Float64",
         "type": "float"
        },
        {
         "name": "SpecialJourneyExpenses",
         "rawType": "Float64",
         "type": "float"
        },
        {
         "name": "SpecialTherapy",
         "rawType": "Float64",
         "type": "float"
        },
        {
         "name": "Vehicle Age",
         "rawType": "Float64",
         "type": "float"
        },
        {
         "name": "Number of Passengers",
         "rawType": "Float64",
         "type": "float"
        }
       ],
       "conversionMethod": "pd.DataFrame",
       "ref": "ad75c385-b7c7-458d-945e-1b26fec09c29",
       "rows": [
        [
         "count",
         "4894.0",
         "4748.0",
         "4777.0",
         "4785.0",
         "4775.0",
         "4768.0",
         "4780.0",
         "4773.0",
         "4792.0",
         "4782.0",
         "4780.0",
         "4768.0",
         "4764.0",
         "4786.0",
         "4758.0",
         "4768.0",
         "4776.0",
         "4779.0"
        ],
        [
         "mean",
         "1217.8698406211688",
         "6.105518112889638",
         "3.6820180029307097",
         "13.470219435736677",
         "462.59560209424086",
         "0.2789429530201342",
         "51.43096234309623",
         "9.12214540121517",
         "33.53860601001669",
         "3.18590547887913",
         "687.2855648535565",
         "10.453439597315436",
         "7.849916036943744",
         "1.950062682824906",
         "11.73287095418243",
         "184.57697147651007",
         "9.507956448911223",
         "2.482736974262398"
        ],
        [
         "std",
         "858.8243824337769",
         "2.7530986975543232",
         "85.87038602604403",
         "84.76044840225107",
         "766.9348385126557",
         "13.101170013841852",
         "392.074826585024",
         "65.94757403266964",
         "284.999999947961",
         "102.31169461531445",
         "399.7010431261337",
         "50.36501890960807",
         "142.56889387348096",
         "13.044566843479359",
         "49.420832062880336",
         "224.29815752229808",
         "5.730668805114672",
         "1.1096560281036225"
        ],
        [
         "min",
         "240.0",
         "1.0",
         "0.0",
         "0.0",
         "0.0",
         "0.0",
         "0.0",
         "0.0",
         "0.0",
         "0.0",
         "240.0",
         "0.0",
         "0.0",
         "0.0",
         "0.0",
         "0.0",
         "0.0",
         "1.0"
        ],
        [
         "25%",
         "669.0",
         "5.0",
         "0.0",
         "0.0",
         "0.0",
         "0.0",
         "0.0",
         "0.0",
         "0.0",
         "0.0",
         "495.0",
         "0.0",
         "0.0",
         "0.0",
         "0.0",
         "0.0",
         "4.0",
         "1.0"
        ],
        [
         "50%",
         "988.0",
         "6.0",
         "0.0",
         "0.0",
         "0.0",
         "0.0",
         "0.0",
         "0.0",
         "0.0",
         "0.0",
         "520.0",
         "0.0",
         "0.0",
         "0.0",
         "0.0",
         "57.0",
         "10.0",
         "2.0"
        ],
        [
         "75%",
         "1510.0",
         "8.0",
         "0.0",
         "0.0",
         "903.0",
         "0.0",
         "0.0",
         "0.0",
         "0.0",
         "0.0",
         "895.0",
         "0.0",
         "0.0",
         "0.0",
         "0.0",
         "350.0",
         "14.0",
         "3.0"
        ],
        [
         "max",
         "7862.0",
         "24.0",
         "3024.0",
         "1250.0",
         "3913.0",
         "889.0",
         "7736.0",
         "1050.0",
         "6070.0",
         "4000.0",
         "4345.0",
         "1430.0",
         "4408.0",
         "254.0",
         "880.0",
         "1225.0",
         "19.0",
         "4.0"
        ]
       ],
       "shape": {
        "columns": 18,
        "rows": 8
       }
      },
      "text/html": [
       "<div>\n",
       "<style scoped>\n",
       "    .dataframe tbody tr th:only-of-type {\n",
       "        vertical-align: middle;\n",
       "    }\n",
       "\n",
       "    .dataframe tbody tr th {\n",
       "        vertical-align: top;\n",
       "    }\n",
       "\n",
       "    .dataframe thead th {\n",
       "        text-align: right;\n",
       "    }\n",
       "</style>\n",
       "<table border=\"1\" class=\"dataframe\">\n",
       "  <thead>\n",
       "    <tr style=\"text-align: right;\">\n",
       "      <th></th>\n",
       "      <th>SettlementValue</th>\n",
       "      <th>Injury_Prognosis</th>\n",
       "      <th>SpecialHealthExpenses</th>\n",
       "      <th>SpecialOverage</th>\n",
       "      <th>GeneralRest</th>\n",
       "      <th>SpecialAdditionalInjury</th>\n",
       "      <th>SpecialEarningsLoss</th>\n",
       "      <th>SpecialUsageLoss</th>\n",
       "      <th>SpecialAssetDamage</th>\n",
       "      <th>SpecialFixes</th>\n",
       "      <th>GeneralFixed</th>\n",
       "      <th>GeneralUplift</th>\n",
       "      <th>SpecialLoanerVehicle</th>\n",
       "      <th>SpecialTripCosts</th>\n",
       "      <th>SpecialJourneyExpenses</th>\n",
       "      <th>SpecialTherapy</th>\n",
       "      <th>Vehicle Age</th>\n",
       "      <th>Number of Passengers</th>\n",
       "    </tr>\n",
       "  </thead>\n",
       "  <tbody>\n",
       "    <tr>\n",
       "      <th>count</th>\n",
       "      <td>4894.000000</td>\n",
       "      <td>4748.0</td>\n",
       "      <td>4777.0</td>\n",
       "      <td>4785.0</td>\n",
       "      <td>4775.0</td>\n",
       "      <td>4768.0</td>\n",
       "      <td>4780.0</td>\n",
       "      <td>4773.0</td>\n",
       "      <td>4792.0</td>\n",
       "      <td>4782.0</td>\n",
       "      <td>4780.0</td>\n",
       "      <td>4768.0</td>\n",
       "      <td>4764.0</td>\n",
       "      <td>4786.0</td>\n",
       "      <td>4758.0</td>\n",
       "      <td>4768.0</td>\n",
       "      <td>4776.0</td>\n",
       "      <td>4779.0</td>\n",
       "    </tr>\n",
       "    <tr>\n",
       "      <th>mean</th>\n",
       "      <td>1217.869841</td>\n",
       "      <td>6.105518</td>\n",
       "      <td>3.682018</td>\n",
       "      <td>13.470219</td>\n",
       "      <td>462.595602</td>\n",
       "      <td>0.278943</td>\n",
       "      <td>51.430962</td>\n",
       "      <td>9.122145</td>\n",
       "      <td>33.538606</td>\n",
       "      <td>3.185905</td>\n",
       "      <td>687.285565</td>\n",
       "      <td>10.45344</td>\n",
       "      <td>7.849916</td>\n",
       "      <td>1.950063</td>\n",
       "      <td>11.732871</td>\n",
       "      <td>184.576971</td>\n",
       "      <td>9.507956</td>\n",
       "      <td>2.482737</td>\n",
       "    </tr>\n",
       "    <tr>\n",
       "      <th>std</th>\n",
       "      <td>858.824382</td>\n",
       "      <td>2.753099</td>\n",
       "      <td>85.870386</td>\n",
       "      <td>84.760448</td>\n",
       "      <td>766.934839</td>\n",
       "      <td>13.10117</td>\n",
       "      <td>392.074827</td>\n",
       "      <td>65.947574</td>\n",
       "      <td>285.0</td>\n",
       "      <td>102.311695</td>\n",
       "      <td>399.701043</td>\n",
       "      <td>50.365019</td>\n",
       "      <td>142.568894</td>\n",
       "      <td>13.044567</td>\n",
       "      <td>49.420832</td>\n",
       "      <td>224.298158</td>\n",
       "      <td>5.730669</td>\n",
       "      <td>1.109656</td>\n",
       "    </tr>\n",
       "    <tr>\n",
       "      <th>min</th>\n",
       "      <td>240.000000</td>\n",
       "      <td>1.0</td>\n",
       "      <td>0.0</td>\n",
       "      <td>0.0</td>\n",
       "      <td>0.0</td>\n",
       "      <td>0.0</td>\n",
       "      <td>0.0</td>\n",
       "      <td>0.0</td>\n",
       "      <td>0.0</td>\n",
       "      <td>0.0</td>\n",
       "      <td>240.0</td>\n",
       "      <td>0.0</td>\n",
       "      <td>0.0</td>\n",
       "      <td>0.0</td>\n",
       "      <td>0.0</td>\n",
       "      <td>0.0</td>\n",
       "      <td>0.0</td>\n",
       "      <td>1.0</td>\n",
       "    </tr>\n",
       "    <tr>\n",
       "      <th>25%</th>\n",
       "      <td>669.000000</td>\n",
       "      <td>5.0</td>\n",
       "      <td>0.0</td>\n",
       "      <td>0.0</td>\n",
       "      <td>0.0</td>\n",
       "      <td>0.0</td>\n",
       "      <td>0.0</td>\n",
       "      <td>0.0</td>\n",
       "      <td>0.0</td>\n",
       "      <td>0.0</td>\n",
       "      <td>495.0</td>\n",
       "      <td>0.0</td>\n",
       "      <td>0.0</td>\n",
       "      <td>0.0</td>\n",
       "      <td>0.0</td>\n",
       "      <td>0.0</td>\n",
       "      <td>4.0</td>\n",
       "      <td>1.0</td>\n",
       "    </tr>\n",
       "    <tr>\n",
       "      <th>50%</th>\n",
       "      <td>988.000000</td>\n",
       "      <td>6.0</td>\n",
       "      <td>0.0</td>\n",
       "      <td>0.0</td>\n",
       "      <td>0.0</td>\n",
       "      <td>0.0</td>\n",
       "      <td>0.0</td>\n",
       "      <td>0.0</td>\n",
       "      <td>0.0</td>\n",
       "      <td>0.0</td>\n",
       "      <td>520.0</td>\n",
       "      <td>0.0</td>\n",
       "      <td>0.0</td>\n",
       "      <td>0.0</td>\n",
       "      <td>0.0</td>\n",
       "      <td>57.0</td>\n",
       "      <td>10.0</td>\n",
       "      <td>2.0</td>\n",
       "    </tr>\n",
       "    <tr>\n",
       "      <th>75%</th>\n",
       "      <td>1510.000000</td>\n",
       "      <td>8.0</td>\n",
       "      <td>0.0</td>\n",
       "      <td>0.0</td>\n",
       "      <td>903.0</td>\n",
       "      <td>0.0</td>\n",
       "      <td>0.0</td>\n",
       "      <td>0.0</td>\n",
       "      <td>0.0</td>\n",
       "      <td>0.0</td>\n",
       "      <td>895.0</td>\n",
       "      <td>0.0</td>\n",
       "      <td>0.0</td>\n",
       "      <td>0.0</td>\n",
       "      <td>0.0</td>\n",
       "      <td>350.0</td>\n",
       "      <td>14.0</td>\n",
       "      <td>3.0</td>\n",
       "    </tr>\n",
       "    <tr>\n",
       "      <th>max</th>\n",
       "      <td>7862.000000</td>\n",
       "      <td>24.0</td>\n",
       "      <td>3024.0</td>\n",
       "      <td>1250.0</td>\n",
       "      <td>3913.0</td>\n",
       "      <td>889.0</td>\n",
       "      <td>7736.0</td>\n",
       "      <td>1050.0</td>\n",
       "      <td>6070.0</td>\n",
       "      <td>4000.0</td>\n",
       "      <td>4345.0</td>\n",
       "      <td>1430.0</td>\n",
       "      <td>4408.0</td>\n",
       "      <td>254.0</td>\n",
       "      <td>880.0</td>\n",
       "      <td>1225.0</td>\n",
       "      <td>19.0</td>\n",
       "      <td>4.0</td>\n",
       "    </tr>\n",
       "  </tbody>\n",
       "</table>\n",
       "</div>"
      ],
      "text/plain": [
       "       SettlementValue  Injury_Prognosis  SpecialHealthExpenses  \\\n",
       "count      4894.000000            4748.0                 4777.0   \n",
       "mean       1217.869841          6.105518               3.682018   \n",
       "std         858.824382          2.753099              85.870386   \n",
       "min         240.000000               1.0                    0.0   \n",
       "25%         669.000000               5.0                    0.0   \n",
       "50%         988.000000               6.0                    0.0   \n",
       "75%        1510.000000               8.0                    0.0   \n",
       "max        7862.000000              24.0                 3024.0   \n",
       "\n",
       "       SpecialOverage  GeneralRest  SpecialAdditionalInjury  \\\n",
       "count          4785.0       4775.0                   4768.0   \n",
       "mean        13.470219   462.595602                 0.278943   \n",
       "std         84.760448   766.934839                 13.10117   \n",
       "min               0.0          0.0                      0.0   \n",
       "25%               0.0          0.0                      0.0   \n",
       "50%               0.0          0.0                      0.0   \n",
       "75%               0.0        903.0                      0.0   \n",
       "max            1250.0       3913.0                    889.0   \n",
       "\n",
       "       SpecialEarningsLoss  SpecialUsageLoss  SpecialAssetDamage  \\\n",
       "count               4780.0            4773.0              4792.0   \n",
       "mean             51.430962          9.122145           33.538606   \n",
       "std             392.074827         65.947574               285.0   \n",
       "min                    0.0               0.0                 0.0   \n",
       "25%                    0.0               0.0                 0.0   \n",
       "50%                    0.0               0.0                 0.0   \n",
       "75%                    0.0               0.0                 0.0   \n",
       "max                 7736.0            1050.0              6070.0   \n",
       "\n",
       "       SpecialFixes  GeneralFixed  GeneralUplift  SpecialLoanerVehicle  \\\n",
       "count        4782.0        4780.0         4768.0                4764.0   \n",
       "mean       3.185905    687.285565       10.45344              7.849916   \n",
       "std      102.311695    399.701043      50.365019            142.568894   \n",
       "min             0.0         240.0            0.0                   0.0   \n",
       "25%             0.0         495.0            0.0                   0.0   \n",
       "50%             0.0         520.0            0.0                   0.0   \n",
       "75%             0.0         895.0            0.0                   0.0   \n",
       "max          4000.0        4345.0         1430.0                4408.0   \n",
       "\n",
       "       SpecialTripCosts  SpecialJourneyExpenses  SpecialTherapy  Vehicle Age  \\\n",
       "count            4786.0                  4758.0          4768.0       4776.0   \n",
       "mean           1.950063               11.732871      184.576971     9.507956   \n",
       "std           13.044567               49.420832      224.298158     5.730669   \n",
       "min                 0.0                     0.0             0.0          0.0   \n",
       "25%                 0.0                     0.0             0.0          4.0   \n",
       "50%                 0.0                     0.0            57.0         10.0   \n",
       "75%                 0.0                     0.0           350.0         14.0   \n",
       "max               254.0                   880.0          1225.0         19.0   \n",
       "\n",
       "       Number of Passengers  \n",
       "count                4779.0  \n",
       "mean               2.482737  \n",
       "std                1.109656  \n",
       "min                     1.0  \n",
       "25%                     1.0  \n",
       "50%                     2.0  \n",
       "75%                     3.0  \n",
       "max                     4.0  "
      ]
     },
     "execution_count": 30,
     "metadata": {},
     "output_type": "execute_result"
    }
   ],
   "source": [
    "ml_dataset.describe()"
   ]
  },
  {
   "cell_type": "code",
   "execution_count": 29,
   "metadata": {},
   "outputs": [
    {
     "name": "stdout",
     "output_type": "stream",
     "text": [
      "Correlation between SettlementValue and Injury_Prognosis: 0.5243528386266065\n",
      "Correlation between SettlementValue and SpecialHealthExpenses: 0.024042364865717303\n",
      "Correlation between SettlementValue and SpecialOverage: 0.06265953199816122\n",
      "Correlation between SettlementValue and GeneralRest: 0.5763339019958738\n",
      "Correlation between SettlementValue and SpecialAdditionalInjury: 0.014337219382340035\n",
      "Correlation between SettlementValue and SpecialEarningsLoss: 0.3371770913408868\n",
      "Correlation between SettlementValue and SpecialUsageLoss: 0.1296267645448482\n",
      "Correlation between SettlementValue and SpecialAssetDamage: 0.2702249745742846\n",
      "Correlation between SettlementValue and SpecialFixes: 0.10789129549610699\n",
      "Correlation between SettlementValue and GeneralFixed: 0.5340317479419371\n",
      "Correlation between SettlementValue and GeneralUplift: 0.09521772096319822\n",
      "Correlation between SettlementValue and SpecialLoanerVehicle: 0.13171460587347641\n",
      "Correlation between SettlementValue and SpecialTripCosts: 0.1584847485821354\n",
      "Correlation between SettlementValue and SpecialJourneyExpenses: 0.13189421237804716\n",
      "Correlation between SettlementValue and SpecialTherapy: 0.3171947103420993\n",
      "Correlation between SettlementValue and Vehicle Age: -0.013915243737534166\n",
      "Correlation between SettlementValue and Number of Passengers: -0.014998410979936271\n"
     ]
    }
   ],
   "source": [
    "for column in ml_dataset:\n",
    "    if column != 'SettlementValue' and ml_dataset[column].dtype != 'object':\n",
    "        check_correlation(ml_dataset, 'SettlementValue', column)\n"
   ]
  },
  {
   "cell_type": "markdown",
   "metadata": {},
   "source": [
    "## Convert simple binary columns\n",
    "Replace binary column text to int and convert NaNs to 0\n",
    "\n",
    "Columns to convert:\n",
    "\n",
    "Exceptional_Circumstances, Minor_Psychological_Injury, Whiplash, Police Report Filed, Witness Present"
   ]
  },
  {
   "cell_type": "code",
   "execution_count": null,
   "metadata": {},
   "outputs": [],
   "source": [
    "def binary_encode(df, column, positive_value):\n",
    "    df[column] = df[column].apply(lambda x: 1 if x == positive_value else 0)\n",
    "    df[column] = df[column].astype('Int8')\n",
    "    return df"
   ]
  },
  {
   "cell_type": "code",
   "execution_count": null,
   "metadata": {},
   "outputs": [],
   "source": [
    "binary_cols = ['Exceptional_Circumstances', 'Minor_Psychological_Injury', 'Whiplash', 'Police Report Filed', 'Witness Present']\n",
    "for col in binary_cols:\n",
    "    ml_dataset = binary_encode(ml_dataset, col, 'Yes')"
   ]
  },
  {
   "cell_type": "code",
   "execution_count": null,
   "metadata": {},
   "outputs": [],
   "source": [
    "ml_dataset.head(20)"
   ]
  },
  {
   "cell_type": "markdown",
   "metadata": {},
   "source": [
    "## Fill NaN values in numeric columns with zero\n",
    "As Injury prognosis, Number of passengers and age of vehicle could be significant in determining the settlement value, the NaN rows will be removed until further analysis has determined whether they should be imputed based on other rows, replaced with a fixed value or dropped altogether"
   ]
  },
  {
   "cell_type": "markdown",
   "metadata": {},
   "source": [
    "\n",
    "## Imputing NaN text fields to No"
   ]
  },
  {
   "cell_type": "code",
   "execution_count": null,
   "metadata": {},
   "outputs": [],
   "source": [
    "# for column in ml_dataset.select_dtypes(include=[object]):\n",
    "#     ml_dataset[column] = ml_dataset[column].fillna('No')"
   ]
  },
  {
   "cell_type": "code",
   "execution_count": null,
   "metadata": {},
   "outputs": [],
   "source": [
    "ml_dataset.isnull().sum()"
   ]
  },
  {
   "cell_type": "markdown",
   "metadata": {
    "id": "uUOQb2wTFI3Z",
    "tags": []
   },
   "source": [
    "## Display count of zero values for all columns"
   ]
  },
  {
   "cell_type": "markdown",
   "metadata": {
    "id": "DUc0wT6qFI3Z"
   },
   "source": [
    "Zero values are often used as placeholders for null values, so any row containing a zero value should be validated to determine if it is appropriate."
   ]
  },
  {
   "cell_type": "code",
   "execution_count": null,
   "metadata": {
    "id": "mTcTM855FI3Z",
    "tags": []
   },
   "outputs": [],
   "source": [
    "# Count number of zeros in all columns of Dataframe\n",
    "for column_name in ml_dataset.columns:\n",
    "    column = ml_dataset[column_name]\n",
    "    # Get the count of Zeros in column\n",
    "    count = (column == 0).sum()\n",
    "    print('Count of zeros in column ', column_name, ' is : ', count)"
   ]
  },
  {
   "cell_type": "markdown",
   "metadata": {
    "id": "1hLE1VypFI3a"
   },
   "source": [
    "## Impute Missing Values"
   ]
  },
  {
   "cell_type": "markdown",
   "metadata": {
    "id": "NiqzsdiPFI3a",
    "tags": []
   },
   "source": [
    "### Convert zero values to NaN"
   ]
  },
  {
   "cell_type": "code",
   "execution_count": null,
   "metadata": {
    "id": "Kb9eTwl2FI3a",
    "tags": []
   },
   "outputs": [],
   "source": [
    "# display describe summary table to confirm the changes\n",
    "ml_dataset.describe()"
   ]
  },
  {
   "cell_type": "markdown",
   "metadata": {
    "id": "0eCkhu5FFI3a",
    "tags": []
   },
   "source": [
    "### Impute mean average"
   ]
  },
  {
   "cell_type": "code",
   "execution_count": null,
   "metadata": {
    "id": "jdEBvOvtFI3a",
    "tags": []
   },
   "outputs": [],
   "source": [
    "# # replace NaN values with mean value for the SkinThickness column\n",
    "# ml_dataset[\"SkinThickness\"] = ml_dataset[\"SkinThickness\"].fillna((ml_dataset[\"SkinThickness\"].mean())).round(2)\n",
    "\n",
    "# # display column summary to confirm changes\n",
    "# ml_dataset[\"SkinThickness\"].describe()"
   ]
  },
  {
   "cell_type": "markdown",
   "metadata": {
    "id": "B0Qpf5tSFI3b",
    "tags": []
   },
   "source": [
    "### Impute using KNN"
   ]
  },
  {
   "cell_type": "code",
   "execution_count": null,
   "metadata": {
    "id": "b7_A7hM0FI3b",
    "tags": []
   },
   "outputs": [],
   "source": [
    "# from sklearn.impute import KNNImputer\n",
    "\n",
    "# # create a KNN imputer object\n",
    "# imputer = KNNImputer(n_neighbors=5)\n",
    "\n",
    "# # impute missing values using KNN for specified columns\n",
    "# columns = ['Glucose','BloodPressure','BMI']\n",
    "# for col in columns:\n",
    "#     temp_df = pd.DataFrame(ml_dataset[col])\n",
    "#     ml_dataset[col] = pd.DataFrame(imputer.fit_transform(temp_df)).round(2)\n",
    "\n",
    "# ml_dataset.describe()\n"
   ]
  },
  {
   "cell_type": "markdown",
   "metadata": {
    "id": "0JI9BB-dFI3b",
    "tags": []
   },
   "source": [
    "## Outlier Detection"
   ]
  },
  {
   "cell_type": "markdown",
   "metadata": {
    "id": "VJeI_Om7FI3b",
    "tags": []
   },
   "source": [
    "### The following section is retained for reference only, as applying outlier removal to the dataset ultimately reduced performance of the trained model. Code relating to inspecting the outliers has been left intact, but all code relating to removal of outlier data has been commented out to prevent it from impacting model training."
   ]
  },
  {
   "cell_type": "markdown",
   "metadata": {
    "id": "AWTIzggcFI3b",
    "tags": []
   },
   "source": [
    "Outlier detection is useful to remove datapoints that may disproportionately affect the model training"
   ]
  },
  {
   "cell_type": "markdown",
   "metadata": {
    "id": "KxNuj1j7FI3b",
    "tags": []
   },
   "source": [
    "### Extreme Value Analysis\n",
    "Calculate the interquartile range (IQR)\n",
    "\n",
    "IQR (Inter quantiles range)= 75th quantile — 25th quantile\n",
    "\n",
    "An outlier will be in the following upper and lower boundaries:\n",
    "- Upper Boundary = 75th quantile +(IQR * 1.5)\n",
    "- Lower Boundary = 25th quantile — (IQR * 1.5)\n",
    "\n",
    "Or for extreme cases:\n",
    "- Upper Boundary = 75th quantile +(IQR * 3)\n",
    "- Lower Boundary = 25th quantile — (IQR * 3)\n",
    "\n",
    "If the data point is above the upper boundary or below the lower boundary, it can be considered as an outlier."
   ]
  },
  {
   "cell_type": "code",
   "execution_count": null,
   "metadata": {
    "id": "HuqZBMotFI3c",
    "tags": []
   },
   "outputs": [],
   "source": [
    "# # function to calculate inter-quartile ranges for a given column\n",
    "# def calc_iqr(column):\n",
    "#     temp_df = pd.DataFrame(ml_dataset[column])\n",
    "\n",
    "#     # calculate inter-quartile range\n",
    "#     IQR = (temp_df.quantile(0.75) - temp_df.quantile(0.25)).round(3)\n",
    "\n",
    "#     # Calculate lower limit and lower limit extreme\n",
    "#     lower_limit = (temp_df.quantile(0.25) - (IQR * 1.5)).round(3)\n",
    "#     lower_limit_extreme = (temp_df.quantile(0.25) - (IQR * 3)).round(3)\n",
    "\n",
    "#     # prevent negative numbers being evaluated\n",
    "#     lower_limit[lower_limit < 0] = 0\n",
    "#     lower_limit_extreme[lower_limit_extreme < 0] = 0\n",
    "\n",
    "#     # get lower boundary and lower boundary extreme from the dataframe\n",
    "#     compare_lower = lower_limit.iloc[0]\n",
    "#     compare_lower_ex = lower_limit_extreme.iloc[0]\n",
    "\n",
    "#     # compare the column data with the boundary value\n",
    "#     lower_criteria = temp_df[(temp_df.iloc[:,0]) < compare_lower]\n",
    "#     lower_ex_criteria = temp_df[(temp_df.iloc[:,0]) < compare_lower_ex]\n",
    "\n",
    "#     # Calculate upper limit and upper limit extreme\n",
    "#     upper_limit = (temp_df.quantile(0.75) + (IQR * 1.5)).round(3)\n",
    "#     upper_limit_extreme = (temp_df.quantile(0.75) + (IQR * 3)).round(3)\n",
    "\n",
    "#     # get upper boundary and upper boundary extreme from the dataframe\n",
    "#     compare_upper = upper_limit.iloc[0]\n",
    "#     compare_upper_ex = upper_limit_extreme.iloc[0]\n",
    "\n",
    "#     # compare the column data with the boundary value\n",
    "#     upper_criteria = temp_df[(temp_df.iloc[:,0]) > compare_upper]\n",
    "#     upper_ex_criteria = temp_df[(temp_df.iloc[:,0]) > compare_upper_ex]\n",
    "\n",
    "#     # display results of the calculations\n",
    "#     print('\\nTotal participants:',temp_df.size)\n",
    "#     print(column, 'Inter-Quartile Range (IQR) = ', IQR[0])\n",
    "\n",
    "#     print('\\n', column, 'Lower Limit = ', lower_limit[0])\n",
    "#     print('Participants with', column, 'below Lower Limit:', lower_criteria.size)\n",
    "\n",
    "#     print('\\n', column, 'Lower Limit Extreme = ', lower_limit_extreme[0])\n",
    "#     print('Participants with', column, 'below Lower Limit Extreme:', lower_ex_criteria.size)\n",
    "\n",
    "#     print('\\n', column, 'Upper Limit = ', upper_limit[0])\n",
    "#     print('Participants with', column, 'above Upper Limit:', upper_criteria.size)\n",
    "\n",
    "#     print('\\n', column, 'Upper Limit Extreme = ', upper_limit_extreme[0])\n",
    "#     print('Participants with', column, 'above Upper Limit Extreme:', upper_ex_criteria.size)"
   ]
  },
  {
   "cell_type": "code",
   "execution_count": null,
   "metadata": {
    "id": "tI6dUFQTFI3c",
    "tags": []
   },
   "outputs": [],
   "source": [
    "# # widget to display IQR values for the column selected in a drop-down box\n",
    "# widgets.interact(lambda column: calc_iqr(column), column=['Age','Pregnancies','Glucose','BloodPressure','SkinThickness','BMI','DiabetesPedigreeFunction'])"
   ]
  },
  {
   "cell_type": "markdown",
   "metadata": {
    "id": "ago1z6MtFI3c",
    "tags": []
   },
   "source": [
    "### Removal of Extreme Outliers"
   ]
  },
  {
   "cell_type": "markdown",
   "metadata": {
    "id": "XkROUirLFI3c"
   },
   "source": [
    "Remove extreme outliers identified in the previous section\n",
    "\n",
    "*The following code section is commented out to prevent data removal*"
   ]
  },
  {
   "cell_type": "code",
   "execution_count": null,
   "metadata": {
    "id": "uHN9DYz7FI3c",
    "tags": []
   },
   "outputs": [],
   "source": [
    "# ml_dataset_ex_outs = ml_dataset\n",
    "\n",
    "# index = ml_dataset[(ml_dataset['SkinThickness'] > 53)].index\n",
    "# ml_dataset_ex_outs.drop(index, inplace=True)\n",
    "\n",
    "# index = ml_dataset[(ml_dataset['BMI'] > 63.90)].index\n",
    "# ml_dataset_ex_outs.drop(index, inplace=True)\n",
    "\n",
    "# index = ml_dataset[(ml_dataset['DiabetesPedigreeFunction'] > 1.77375)].index\n",
    "# ml_dataset_ex_outs.drop(index, inplace=True)\n"
   ]
  },
  {
   "cell_type": "markdown",
   "metadata": {
    "id": "7fmgfDziFI3c",
    "tags": []
   },
   "source": [
    "### Visualizing Outliers"
   ]
  },
  {
   "cell_type": "markdown",
   "metadata": {
    "id": "gKKDVhpJFI3c"
   },
   "source": [
    "Using a box plot is a quick method of visualizing outliers"
   ]
  },
  {
   "cell_type": "code",
   "execution_count": null,
   "metadata": {
    "id": "dQqjBdMSFI3c",
    "tags": []
   },
   "outputs": [],
   "source": [
    "# # sns.boxplot(y='annual_inc', data = data)\n",
    "# widgets.interact(lambda X: sns.boxplot(data=ml_dataset, x=X), X=['Pregnancies','Glucose','BloodPressure','SkinThickness','BMI','DiabetesPedigreeFunction','Age'])\n"
   ]
  },
  {
   "cell_type": "markdown",
   "metadata": {
    "id": "BOtOTsS5FI3d",
    "tags": []
   },
   "source": [
    "### List Outliers Based on Limits Identifed in the Boxplot"
   ]
  },
  {
   "cell_type": "code",
   "execution_count": null,
   "metadata": {
    "id": "HQzGTk9vFI3d",
    "tags": []
   },
   "outputs": [],
   "source": [
    "# print(ml_dataset[(ml_dataset['SkinThickness'] > 80)].index)\n",
    "# print(ml_dataset[(ml_dataset['Age'] > 65)].index)\n",
    "# print(ml_dataset[(ml_dataset['BMI'] > 50)].index)\n",
    "# print(ml_dataset[(ml_dataset['BloodPressure'] > 105)].index)\n",
    "# print(ml_dataset[(ml_dataset['BloodPressure'] < 40)].index)\n",
    "# print(ml_dataset[(ml_dataset['Pregnancies'] > 13)].index)"
   ]
  },
  {
   "cell_type": "markdown",
   "metadata": {
    "id": "Vc3PqKHRFI3d",
    "tags": []
   },
   "source": [
    "### Outlier Removal Based on Boxplot"
   ]
  },
  {
   "cell_type": "markdown",
   "metadata": {
    "id": "eMUPaVRXFI3d"
   },
   "source": [
    "*This section is commented out to prevent data removal*"
   ]
  },
  {
   "cell_type": "code",
   "execution_count": null,
   "metadata": {
    "id": "8R0fD2ZVFI3d",
    "tags": []
   },
   "outputs": [],
   "source": [
    "# index = ml_dataset[(ml_dataset['SkinThickness'] > 80)].index\n",
    "# ml_dataset.drop(index, inplace=True)\n",
    "\n",
    "# index = ml_dataset[(ml_dataset['Age'] > 65)].index\n",
    "# ml_dataset.drop(index, inplace=True)\n",
    "\n",
    "# index = ml_dataset[(ml_dataset['BMI'] > 50)].index\n",
    "# ml_dataset.drop(index, inplace=True)\n",
    "\n",
    "# index = ml_dataset[(ml_dataset['BloodPressure'] > 105)].index\n",
    "# ml_dataset.drop(index, inplace=True)\n",
    "\n",
    "# index = ml_dataset[(ml_dataset['BloodPressure'] < 40)].index\n",
    "# ml_dataset.drop(index, inplace=True)\n",
    "\n",
    "# index = ml_dataset[(ml_dataset['Pregnancies'] > 13)].index\n",
    "# ml_dataset.drop(index, inplace=True)"
   ]
  },
  {
   "cell_type": "markdown",
   "metadata": {
    "id": "lbW2gpjYFI3d",
    "tags": []
   },
   "source": [
    "# Initial Visualizations"
   ]
  },
  {
   "cell_type": "markdown",
   "metadata": {
    "id": "tSDV4f-pFI3d",
    "tags": []
   },
   "source": [
    "## Outcome Distribution"
   ]
  },
  {
   "cell_type": "code",
   "execution_count": null,
   "metadata": {
    "id": "KiHg4oxWFI3e",
    "tags": []
   },
   "outputs": [],
   "source": [
    "# sns.countplot(x=ml_dataset['Settlement'])"
   ]
  },
  {
   "cell_type": "markdown",
   "metadata": {
    "id": "-vbo_G3gFI3e",
    "tags": []
   },
   "source": [
    "## Histogram chart"
   ]
  },
  {
   "cell_type": "markdown",
   "metadata": {
    "id": "4rWsOLy3FI3e"
   },
   "source": [
    "Histogram chart using dropdown widget to allow switching between x values. This allows quick viewing of the recorded frequency of the dataset feature values."
   ]
  },
  {
   "cell_type": "code",
   "execution_count": null,
   "metadata": {
    "id": "qlUSA9VJFI3e",
    "tags": []
   },
   "outputs": [],
   "source": [
    "# widgets.interact(lambda X: ml_dataset[X].plot.hist(bins=10, figsize=(10,5)), X=['Age','Pregnancies','Glucose','BloodPressure','SkinThickness','BMI','DiabetesPedigreeFunction'])"
   ]
  },
  {
   "cell_type": "markdown",
   "metadata": {
    "id": "26PbwP11FI3e",
    "tags": []
   },
   "source": [
    "## Distribution Plot Chart"
   ]
  },
  {
   "cell_type": "markdown",
   "metadata": {
    "id": "jevor2xoFI3e"
   },
   "source": [
    "Distribution Plot chart using dropdown widget to allow switching between x values. This allows comparison of the feature distributions for each outcome."
   ]
  },
  {
   "cell_type": "code",
   "execution_count": null,
   "metadata": {
    "id": "gWoBBa04FI3f",
    "tags": []
   },
   "outputs": [],
   "source": [
    "# widgets.interact(lambda X: sns.displot(data=ml_dataset, x=X, col='Outcome', kind='kde'), X=['Age','Pregnancies','Glucose','BloodPressure','SkinThickness','BMI','DiabetesPedigreeFunction'])"
   ]
  },
  {
   "cell_type": "markdown",
   "metadata": {
    "id": "trvHi1f0FI3f",
    "tags": []
   },
   "source": [
    "## Scatter Plot Chart"
   ]
  },
  {
   "cell_type": "markdown",
   "metadata": {
    "id": "yYOscKHCFI3f"
   },
   "source": [
    "Scatter Plot chart, using X-axis and Y-axis dropdown widgets to allow bivariate analysis for identifying potential relationships between features."
   ]
  },
  {
   "cell_type": "code",
   "execution_count": null,
   "metadata": {
    "id": "MqZrHE-_FI3f",
    "tags": []
   },
   "outputs": [],
   "source": [
    "# widgets.interact(lambda X, Y: sns.scatterplot(data=ml_dataset, style=ml_dataset['Outcome'], hue=ml_dataset['Outcome'], x=X, y=Y), X=['Age','Pregnancies','Glucose','BloodPressure','SkinThickness','BMI','DiabetesPedigreeFunction'], Y=['Glucose','Pregnancies','BloodPressure','SkinThickness','BMI','DiabetesPedigreeFunction','Age'])"
   ]
  },
  {
   "cell_type": "markdown",
   "metadata": {
    "id": "RC_33bBOFI3f",
    "tags": []
   },
   "source": [
    "## Correlation Matrix"
   ]
  },
  {
   "cell_type": "markdown",
   "metadata": {
    "id": "15etA7AnFI3f"
   },
   "source": [
    "A correlation matrix quantifies and visualizes the linear relationships between variables, aiding in feature selection and understanding variable interactions."
   ]
  },
  {
   "cell_type": "code",
   "execution_count": null,
   "metadata": {
    "id": "LK34pfcyFI3f",
    "tags": []
   },
   "outputs": [],
   "source": [
    "# # calculate the feature correlation values\n",
    "# c = ml_dataset.select_dtypes('number').corr().round(3)\n",
    "\n",
    "# # Plot the correlation matrix as a heatmap\n",
    "# import matplotlib.pyplot as plt\n",
    "# import seaborn as sns\n",
    "# sns.heatmap(c, annot=True)\n",
    "# plt.show()"
   ]
  },
  {
   "cell_type": "markdown",
   "metadata": {
    "id": "ABth0byzFI3g",
    "tags": []
   },
   "source": [
    "# Recursive Feature Elimination"
   ]
  },
  {
   "cell_type": "markdown",
   "metadata": {
    "id": "4C6jJmRuFI3g"
   },
   "source": [
    "As a final data processing step, we will apply recursive feature elimination with cross validation (RFECV) to identify the most useful features on which to train the models. Reducing the dimensionality and overall size of the dataset decreases training time and improves efficiency, which both contribute to a lower financial costs through reduced compute requirements and reduction in energy consumption, resulting in a more sustainable approach."
   ]
  },
  {
   "cell_type": "code",
   "execution_count": null,
   "metadata": {
    "id": "hI7adw3gFI3g",
    "tags": []
   },
   "outputs": [],
   "source": [
    "# # import required library functions\n",
    "# from sklearn.feature_selection import RFECV\n",
    "# from sklearn.linear_model import LinearRegression\n",
    "\n",
    "# # split dataset to features and classifications\n",
    "# X = ml_dataset.drop([\"Outcome\"], axis = 1)\n",
    "# y = ml_dataset[\"Outcome\"]\n",
    "\n",
    "# # use a linear regressino model for cross validation testing\n",
    "# regressor = LinearRegression()\n",
    "# feature_selector = RFECV(regressor)\n",
    "\n",
    "# # train the model\n",
    "# fit = feature_selector.fit(X,y)\n",
    "\n",
    "# # determine and print result of feature evaluation\n",
    "# optimal_feature_count = feature_selector.n_features_\n",
    "# print(f\"Optimal numer of features: {optimal_feature_count}\")\n",
    "\n",
    "# print(X.columns)\n",
    "# print(feature_selector.ranking_)\n",
    "# print(feature_selector.support_)\n",
    "\n",
    "# # plot chart of evaluation runs\n",
    "# plt.plot(range(1, len(fit.grid_scores_) + 1), fit.grid_scores_, marker = \"o\")\n",
    "# plt.ylabel(\"Model Score\")\n",
    "# plt.xlabel(\"Number of Features\")\n",
    "# plt.title(f\"Feature Selection using RFE\")\n",
    "# plt.tight_layout()\n",
    "# plt.show()"
   ]
  },
  {
   "cell_type": "markdown",
   "metadata": {
    "id": "jExPYh7HFI3g"
   },
   "source": [
    "### Removal of features recommended by the RFECV process."
   ]
  },
  {
   "cell_type": "code",
   "execution_count": null,
   "metadata": {
    "id": "rd-jbQRCFI3g",
    "tags": []
   },
   "outputs": [],
   "source": [
    "# # drop specificed columns to a new dataframe\n",
    "# ml_dataset_4col = ml_dataset.drop(['BloodPressure', 'SkinThickness','Age'], axis=1)"
   ]
  },
  {
   "cell_type": "markdown",
   "metadata": {
    "id": "eswTCThAFI3g",
    "tags": []
   },
   "source": [
    "# Model 1: Baseline for Comparison"
   ]
  },
  {
   "cell_type": "markdown",
   "metadata": {
    "id": "4-z0gWrcFI3h",
    "tags": []
   },
   "source": [
    "## Split Features and Classifications"
   ]
  },
  {
   "cell_type": "markdown",
   "metadata": {
    "id": "83Y0ewmaFI3h"
   },
   "source": [
    "Split the dataset into two ndarrays, one for the feature matrix and another for the corresponding classifications."
   ]
  },
  {
   "cell_type": "code",
   "execution_count": null,
   "metadata": {
    "id": "gQ0P3IaTFI3h"
   },
   "outputs": [],
   "source": [
    "# # Create X for features\n",
    "# X=df.drop(['Settlement'],axis=1)\n",
    "\n",
    "# # Create y for classes\n",
    "# y=df['Settlement']\n",
    "\n",
    "# # Display first 5 rows of X\n",
    "# X[:5]"
   ]
  },
  {
   "cell_type": "markdown",
   "metadata": {
    "id": "3AV2JicvFI3h",
    "tags": []
   },
   "source": [
    "## Divide Train and Test"
   ]
  },
  {
   "cell_type": "markdown",
   "metadata": {
    "id": "5M480npjFI3h"
   },
   "source": [
    "Split the dataset to utilise 70% of the data for training and 30% for testing. The model training was repeated with an 80:20 split (the usual recommendation) and with a 90:10 split, but the 70:30 ratio outperformed both of those options."
   ]
  },
  {
   "cell_type": "code",
   "execution_count": null,
   "metadata": {
    "id": "GxXImL7CFI3h",
    "tags": []
   },
   "outputs": [],
   "source": [
    "# from sklearn.model_selection import train_test_split\n",
    "# X_train, X_test, y_train, y_test = train_test_split(X,y,test_size=0.3,random_state=1)\n",
    "\n",
    "# print('Training dataframes have shape:', X_train.shape, y_train.shape, '\\nTest dataframes have shape:',X_test.shape, y_test.shape)"
   ]
  },
  {
   "cell_type": "markdown",
   "metadata": {
    "id": "42iC4nUCFI3h",
    "tags": []
   },
   "source": [
    "## Stratification"
   ]
  },
  {
   "cell_type": "code",
   "execution_count": null,
   "metadata": {
    "id": "o3VT9eRcFI3i"
   },
   "outputs": [],
   "source": [
    "## split dataframe using stratification\n",
    "# train, test = train_test_split(ml_dataset_4col, test_size=0.3, random_state=1, stratify=ml_dataset_4col['Outcome'])\n",
    "\n",
    "## split stratified training data into features and classes\n",
    "# X_train=train.drop(['Outcome'],axis=1)\n",
    "# y_train=train['Outcome']\n",
    "\n",
    "## split stratified test data into features and classes\n",
    "# X_test=test.drop(['Outcome'],axis=1)\n",
    "# y_test=test['Outcome']"
   ]
  },
  {
   "cell_type": "markdown",
   "metadata": {
    "id": "I6rnzzlFFI3i",
    "tags": []
   },
   "source": [
    "## Display Train and Test dataframes"
   ]
  },
  {
   "cell_type": "markdown",
   "metadata": {
    "id": "QJnpn7HrFI3i"
   },
   "source": [
    "Use dropdown menu to display initial records for selected dataframe - choose between features (X) and classes (y) for either train or test."
   ]
  },
  {
   "cell_type": "code",
   "execution_count": null,
   "metadata": {
    "id": "Ht1y4pXLFI3i"
   },
   "outputs": [],
   "source": [
    "# def display_head(display):\n",
    "#     if display == 'X_train':\n",
    "#         print(X_train.head(5))\n",
    "\n",
    "#     if display == 'X_test':\n",
    "#         print(X_test.head(5))\n",
    "\n",
    "#     if display == 'y_train':\n",
    "#         print(y_train.head(5))\n",
    "\n",
    "#     if display == 'y_test':\n",
    "#         print(y_test.head(5))\n",
    "\n",
    "# widgets.interact(lambda Selection: display_head(Selection), Selection=['X_train', 'y_train', 'X_test', 'y_test'])"
   ]
  },
  {
   "cell_type": "markdown",
   "metadata": {
    "id": "CiE_4kuFFI3i",
    "tags": []
   },
   "source": [
    "## Create Processing and Training Pipeline"
   ]
  },
  {
   "cell_type": "code",
   "execution_count": null,
   "metadata": {
    "id": "5SQ4dukPFI3i",
    "tags": []
   },
   "outputs": [],
   "source": [
    "# # Import libraries required for SVM model, pipeline and scaling\n",
    "# from sklearn.pipeline import Pipeline\n",
    "# from sklearn.preprocessing import StandardScaler\n",
    "# from sklearn.svm import SVC\n",
    "\n",
    "# # create pipeline to scale features\n",
    "# default_pipe = Pipeline(steps=[('scaler', StandardScaler()), ('svm', SVC())])"
   ]
  },
  {
   "cell_type": "markdown",
   "metadata": {
    "id": "M-ByZP2kFI3i",
    "tags": []
   },
   "source": [
    "## Train Default Model"
   ]
  },
  {
   "cell_type": "code",
   "execution_count": null,
   "metadata": {
    "colab": {
     "base_uri": "https://localhost:8080/",
     "height": 211
    },
    "executionInfo": {
     "elapsed": 1681,
     "status": "error",
     "timestamp": 1716263736188,
     "user": {
      "displayName": "Bradley Booth",
      "userId": "10896882746436852839"
     },
     "user_tz": -480
    },
    "id": "jqITdZlXFI3j",
    "outputId": "1a1c0ca2-3fd3-44e0-ea10-89d2d20299b1"
   },
   "outputs": [],
   "source": [
    "# # import libraries required for reporting\n",
    "# from sklearn import metrics\n",
    "\n",
    "# # train default model using the pipeline\n",
    "# default_pipe.fit(X_train, y_train)\n",
    "\n",
    "# # make predictions based on the default model\n",
    "# y_pred_def = default_pipe.predict(X_test)"
   ]
  },
  {
   "cell_type": "markdown",
   "metadata": {
    "id": "W4MHVPRjFI3l",
    "tags": []
   },
   "source": [
    "## Performance Metrics Function"
   ]
  },
  {
   "cell_type": "markdown",
   "metadata": {
    "id": "InJBwUhiFI3l"
   },
   "source": [
    "As we will be re-using these performance metrics throughout the notebook, it makes sense to create a function that can be called as needed."
   ]
  },
  {
   "cell_type": "code",
   "execution_count": null,
   "metadata": {
    "id": "tVpoACapFI3l",
    "tags": []
   },
   "outputs": [],
   "source": [
    "# # import library functions\n",
    "# from sklearn.metrics import classification_report\n",
    "\n",
    "# def display_metrics(y_test,y_pred):\n",
    "#     # generate and display confusion matrix\n",
    "#     conf_matrix = confusion_matrix(y_test,y_pred)\n",
    "#     plot_confusion_matrix(conf_matrix)\n",
    "\n",
    "#     # display classification report\n",
    "#     print(classification_report(y_test,y_pred))\n",
    "\n",
    "#     # display f1 score\n",
    "#     print('F1 Score:', f1_score(y_test,y_pred))\n",
    "\n",
    "#     # display roc-auc score\n",
    "#     print('ROC-AUC Score:', roc_auc_score(y_test,y_pred))"
   ]
  },
  {
   "cell_type": "markdown",
   "metadata": {
    "id": "Vu06vbDPFI3l",
    "tags": []
   },
   "source": [
    "## Default Model Performance Metrics Report"
   ]
  },
  {
   "cell_type": "markdown",
   "metadata": {
    "id": "f1K27iTNFI3l"
   },
   "source": [
    "To demonstrate the complete metrics report, it is now applied to the default model predictions."
   ]
  },
  {
   "cell_type": "code",
   "execution_count": null,
   "metadata": {
    "id": "kOqGOsK3FI3l",
    "tags": []
   },
   "outputs": [],
   "source": [
    "# # display metrics using previously defined function\n",
    "# display_metrics(y_test,y_pred_def)"
   ]
  },
  {
   "cell_type": "markdown",
   "metadata": {
    "id": "anGC9tqbFI3l",
    "tags": []
   },
   "source": [
    "## Apply Class Weighting"
   ]
  },
  {
   "cell_type": "code",
   "execution_count": null,
   "metadata": {
    "id": "3yRYAEtSFI3m",
    "tags": []
   },
   "outputs": [],
   "source": [
    "# # create weighted pipeline to scale features\n",
    "# weighted_pipe = Pipeline(steps=[('scaler', StandardScaler()), ('svm', SVC(class_weight='balanced'))])\n",
    "\n",
    "# # train model using the weighted pipeline\n",
    "# weighted_pipe.fit(X_train, y_train)\n",
    "\n",
    "# # make predictions based on the weighted model\n",
    "# y_pred_weighted = weighted_pipe.predict(X_test)\n",
    "\n",
    "# # display metrics using previously defined function\n",
    "# display_metrics(y_test,y_pred_weighted)"
   ]
  },
  {
   "cell_type": "markdown",
   "metadata": {
    "id": "8P77VPzOFI3r",
    "tags": []
   },
   "source": [
    "## Cross Validation"
   ]
  },
  {
   "cell_type": "markdown",
   "metadata": {
    "id": "3HxcQy_rFI3r"
   },
   "source": [
    "Rather than just training the model once on the entire training dataset, cross validation partitions the data into multiple subsets, training the model on some subsets and validating it on others, and then averaging the results to better estimate its performance on unseen data, resulting in a more generalized model with reduced tendency to overfit.\n",
    "\n",
    "The sklearn RepeatedStratifiedKFold function is a cross-validation method that implements stratification of the training and validation partitions during cross validation. It achieves this by repeatedly splitting the dataset into 'K' stratified folds, ensuring that each fold is a good representative of the whole, and it is used multiple times to provide a more robust estimate of model performance."
   ]
  },
  {
   "cell_type": "code",
   "execution_count": null,
   "metadata": {
    "id": "DXrTn8s2FI3r",
    "tags": []
   },
   "outputs": [],
   "source": [
    "# # importing libraries and functions needed for cross validation\n",
    "# from sklearn.model_selection import cross_val_score\n",
    "# from sklearn.model_selection import RepeatedStratifiedKFold\n",
    "\n",
    "# # define reusable cross validation test harness\n",
    "# cv = RepeatedStratifiedKFold(n_splits=10, n_repeats=3, random_state=1)"
   ]
  }
 ],
 "metadata": {
  "colab": {
   "provenance": []
  },
  "kernelspec": {
   "display_name": "Python 3 (ipykernel)",
   "language": "python",
   "name": "python3"
  },
  "language_info": {
   "codemirror_mode": {
    "name": "ipython",
    "version": 3
   },
   "file_extension": ".py",
   "mimetype": "text/x-python",
   "name": "python",
   "nbconvert_exporter": "python",
   "pygments_lexer": "ipython3",
   "version": "3.11.9"
  }
 },
 "nbformat": 4,
 "nbformat_minor": 0
}
